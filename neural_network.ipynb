{
  "cells": [
    {
      "cell_type": "markdown",
      "source": [
        "# Assignment 2\n",
        "\n",
        "In this assignment you will create a coordinate-based multilayer perceptron in numpy from scratch. For each input image coordinate $(x,y)$, the model predicts the associated color $(r,g,b)$.\n",
        "\n",
        "![Network diagram](https://user-images.githubusercontent.com/3310961/85066930-ad444580-b164-11ea-9cc0-17494679e71f.png)\n",
        "\n",
        "You will then compare the following input feature mappings $\\gamma (\\mathbf{v})$.\n",
        "\n",
        "- No mapping: $\\gamma(\\mathbf{v})= \\mathbf{v}$. \n",
        "\n",
        "- Basic mapping: $\\gamma(\\mathbf{v})=\\left[ \\cos(2 \\pi \\mathbf{v}),\\sin(2 \\pi \\mathbf{v}) \\right]^\\mathrm{T}$. \n",
        "\n",
        "- Gaussian Fourier feature mapping: $\\gamma(\\mathbf{v})= \\left[ \\cos(2 \\pi \\mathbf B \\mathbf{v}), \\sin(2 \\pi \\mathbf B \\mathbf{v}) \\right]^\\mathrm{T}$, \n",
        "where each entry in $\\mathbf B \\in \\mathbb R^{m \\times d}$ is sampled from $\\mathcal N(0,\\sigma^2)$.\n",
        "\n",
        "Some notes to help you with that:\n",
        "\n",
        "- You will implement the mappings in the helper functions `get_B_dict` and `input_mapping`. \n",
        "- The basic mapping can be considered a case where $\\mathbf B \\in \\mathbb R^{2 \\times 2}$ is the indentity matrix. \n",
        "- For this assignment, $d$ is 2 because the input coordinates in two dimensions. \n",
        "- You can experiment with $m$ and $\\sigma$ values e.g. $m=256$ and $\\sigma \\in \\{1, 10, 100\\}$.\n",
        "\n",
        "Source: https://bmild.github.io/fourfeat/ \n",
        "This assignment is inspired by and built off of the authors' demo. "
      ],
      "metadata": {
        "id": "O452YP5gcoTh"
      }
    },
    {
      "cell_type": "markdown",
      "source": [
        "## Setup"
      ],
      "metadata": {
        "id": "g1PrabcYcszP"
      }
    },
    {
      "cell_type": "markdown",
      "source": [
        "### (Optional) Colab Setup\n",
        "If you aren't using Colab, you can delete the following code cell. Replace the path below with the path in your Google Drive to the uploaded assignment folder. Mounting to Google Drive will allow you access the other .py files in the assignment folder and save outputs to this folder"
      ],
      "metadata": {
        "id": "wILGPb5Ccuxm"
      }
    },
    {
      "cell_type": "code",
      "source": [
        "# you will be prompted with a window asking to grant permissions\n",
        "# click connect to google drive, choose your account, and click allow\n",
        "from google.colab import drive\n",
        "drive.mount(\"/content/drive\")"
      ],
      "metadata": {
        "id": "qd7bYYf9cl-0",
        "colab": {
          "base_uri": "https://localhost:8080/"
        },
        "outputId": "879b647a-5ae7-4063-8791-1078b8b821c6"
      },
      "execution_count": 1,
      "outputs": [
        {
          "output_type": "stream",
          "name": "stdout",
          "text": [
            "Mounted at /content/drive\n"
          ]
        }
      ]
    },
    {
      "cell_type": "code",
      "source": [
        "cd drive/MyDrive/cs444hw2"
      ],
      "metadata": {
        "colab": {
          "base_uri": "https://localhost:8080/"
        },
        "id": "Oje62UOXH8VW",
        "outputId": "5a7cb45c-8c42-419e-ded0-5b75a816db10"
      },
      "execution_count": 2,
      "outputs": [
        {
          "output_type": "stream",
          "name": "stdout",
          "text": [
            "/content/drive/MyDrive/cs444hw2\n"
          ]
        }
      ]
    },
    {
      "cell_type": "code",
      "source": [
        "# TODO: fill in the path in your Google Drive in the string below\n",
        "# Note: do not escape slashes or spaces in the path string\n",
        "import os\n",
        "datadir = \"/content/assignment2\"\n",
        "if not os.path.exists(datadir):\n",
        "  !ln -s \"/content/drive/My Drive/path/to/your/assignment2/\" $datadir\n",
        "os.chdir(datadir)\n",
        "!pwd"
      ],
      "metadata": {
        "id": "Rkf-pZcSdUjU"
      },
      "execution_count": null,
      "outputs": []
    },
    {
      "cell_type": "markdown",
      "source": [
        "### Imports"
      ],
      "metadata": {
        "id": "EfPlwYF07wB_"
      }
    },
    {
      "cell_type": "code",
      "execution_count": 3,
      "metadata": {
        "id": "5CKY4Fdna2Y-"
      },
      "outputs": [],
      "source": [
        "import matplotlib.pyplot as plt\n",
        "from tqdm.notebook import tqdm\n",
        "import os, imageio\n",
        "import cv2\n",
        "import numpy as np\n",
        "\n",
        "# imports /content/assignment2/models/neural_net.py if you mounted correctly \n",
        "from models.neural_net import NeuralNetwork\n",
        "\n",
        "# makes sure your NeuralNetwork updates as you make changes to the .py file\n",
        "%load_ext autoreload\n",
        "%autoreload 2\n",
        "\n",
        "# sets default size of plots\n",
        "%matplotlib inline\n",
        "plt.rcParams['figure.figsize'] = (10.0, 8.0)  "
      ]
    },
    {
      "cell_type": "markdown",
      "source": [
        "## Helper Functions"
      ],
      "metadata": {
        "id": "MhqQzPGU7dls"
      }
    },
    {
      "cell_type": "markdown",
      "source": [
        "### Experiment Runner (Fill in TODOs)"
      ],
      "metadata": {
        "id": "jWYSuPu2mP8x"
      }
    },
    {
      "cell_type": "code",
      "source": [
        "from re import M\n",
        "from sklearn.utils import shuffle\n",
        "from numpy import log10\n",
        "def NN_experiment(X_train, y_train, X_test, y_test, input_size, num_layers,\\\n",
        "                  hidden_size, hidden_sizes, output_size, epochs,\\\n",
        "                  learning_rate, opt):\n",
        "  \n",
        "  # Initialize a new neural network model\n",
        "  net = NeuralNetwork(input_size, hidden_sizes, output_size, num_layers, opt)\n",
        "\n",
        "  # Variables to store performance for each epoch\n",
        "  train_loss = np.zeros(epochs)\n",
        "  train_psnr = np.zeros(epochs)\n",
        "  test_psnr = np.zeros(epochs)\n",
        "\n",
        "  # array to store the outut image\n",
        "  predicted_images = np.zeros((epochs, y_test.shape[0], y_test.shape[1]))  # y_test: dim0: w and h. dim1:channel \n",
        "\n",
        "  for epoch in tqdm(range(epochs)):\n",
        "    \n",
        "      # Shuffle the dataset\n",
        "      #X_train, y_train = shuffle(X_train, y_train, random_state=42)\n",
        "\n",
        "      # ========== TRAINING ==========\n",
        "      # Forward to get a prediction and record the psnr\n",
        "      prediction = net.forward(X_train)  # our network already returns RGB values in rangle [0, 1]\n",
        "      \n",
        "      # Backward to compute the loss, record the loss, and update the weights\n",
        "      train_loss[epoch] = net.backward(y_train)  # Total loss\n",
        "      net.update(lr=learning_rate, opt=opt)\n",
        "\n",
        "      m = np.mean((y_train - prediction) ** 2)\n",
        "      train_psnr[epoch] = 20 * log10(1.0/np.sqrt(m)) if m > 1e-10 else 100  # max value in output is 1 \n",
        "\n",
        "      # ========== Testing ==========\n",
        "      prediction_test = net.forward(X_test) # already returns RGB values\n",
        "      \n",
        "      m = np.mean((y_test - prediction_test) ** 2)\n",
        "      test_psnr[epoch] = 20 * log10(1.0/np.sqrt(m)) if m > 1e-10 else 100  # max value in output is 1  \n",
        "\n",
        "      predicted_images[epoch,:,:] = prediction_test # will be reshaped for displaying in downstream codes\n",
        "  # loop ends\n",
        "\n",
        "  return net, train_psnr, test_psnr, train_loss, predicted_images"
      ],
      "metadata": {
        "id": "tSdrQ0QR92tt"
      },
      "execution_count": 30,
      "outputs": []
    },
    {
      "cell_type": "markdown",
      "source": [
        "### Image Data and Feature Mappings (Fill in TODOs)"
      ],
      "metadata": {
        "id": "F_D1y-kJ7eMk"
      }
    },
    {
      "cell_type": "code",
      "source": [
        "# Data loader - already done for you\n",
        "def get_image(size=512, \\\n",
        "              image_url='https://bmild.github.io/fourfeat/img/lion_orig.png'):\n",
        "\n",
        "  # Download image, take a square crop from the center  \n",
        "  img = imageio.imread(image_url)[..., :3] / 255.\n",
        "  c = [img.shape[0]//2, img.shape[1]//2]\n",
        "  r = 256\n",
        "  img = img[c[0]-r:c[0]+r, c[1]-r:c[1]+r]\n",
        "\n",
        "  if size != 512:\n",
        "    img = cv2.resize(img, (size, size))\n",
        "\n",
        "  plt.imshow(img)\n",
        "  plt.show()\n",
        "\n",
        "  # Create input pixel coordinates in the unit square\n",
        "  coords = np.linspace(0, 1, img.shape[0], endpoint=False)\n",
        "  x_test = np.stack(np.meshgrid(coords, coords), -1)\n",
        "  test_data = [x_test, img]\n",
        "  train_data = [x_test[::2, ::2], img[::2, ::2]]\n",
        "\n",
        "  return train_data, test_data"
      ],
      "metadata": {
        "id": "xcvnzOICobu3"
      },
      "execution_count": 5,
      "outputs": []
    },
    {
      "cell_type": "code",
      "source": [
        "# Create the mappings dictionary of matrix B -  you will implement this\n",
        "def get_B_dict():\n",
        "  B_dict = {}\n",
        "  B_dict['none'] = None\n",
        "  B_dict['basic'] = np.eye(2)\n",
        "\n",
        "  # add B matrix for basic, gauss_1.0, gauss_10.0, gauss_100.0\n",
        "  # TODO implement this  \n",
        "  for scale in [1., 10., 100.]:\n",
        "    B = np.random.normal(0, scale,size=(256, 2))\n",
        "    B_dict[f'gauss_{scale}'] = B * scale\n",
        "\n",
        "  return B_dict"
      ],
      "metadata": {
        "id": "6YksepPb8Yyw"
      },
      "execution_count": 6,
      "outputs": []
    },
    {
      "cell_type": "code",
      "source": [
        "# Given tensor x of input coordinates, map it using B - you will implement\n",
        "def input_mapping(x, B):\n",
        "  if B is None:\n",
        "    # \"none\" mapping - just returns the original input coordinates\n",
        "    return x\n",
        "  else:\n",
        "    # \"basic\" mapping and \"gauss_X\" mappings project input features using B\n",
        "    # TODO implement \n",
        "    v = (2.0*np.pi*x) @ B.T\n",
        "    return np.concatenate([np.sin(v), np.cos(v)], axis=-1)"
      ],
      "metadata": {
        "id": "B_9mubvp8aY1"
      },
      "execution_count": 7,
      "outputs": []
    },
    {
      "cell_type": "code",
      "source": [
        "# Apply the input feature mapping to the train and test data - already done for you\n",
        "def get_input_features(B_dict, mapping):\n",
        "  # mapping is the key to the B_dict, which has the value of B\n",
        "  # B is then used with the function `input_mapping` to map x  \n",
        "  y_train = train_data[1].reshape(-1, output_size)\n",
        "  y_test = test_data[1].reshape(-1, output_size)\n",
        "  X_train = input_mapping(train_data[0].reshape(-1, 2), B_dict[mapping])\n",
        "  X_test = input_mapping(test_data[0].reshape(-1, 2), B_dict[mapping])\n",
        "  return X_train, y_train, X_test, y_test"
      ],
      "metadata": {
        "id": "UBGd4KfYjJ14"
      },
      "execution_count": 8,
      "outputs": []
    },
    {
      "cell_type": "markdown",
      "source": [
        "### MSE Loss and PSNR Error (Fill in TODOs)"
      ],
      "metadata": {
        "id": "-XZiVy05or2V"
      }
    },
    {
      "cell_type": "code",
      "source": [
        "def mse(y, p):\n",
        "  # TODO implement this\n",
        "  # make sure it is consistent with your implementation in neural_net.py\n",
        "  return np.mean(np.square(y - p))/2.0\n",
        "\n",
        "def psnr(y, p):\n",
        "  # TODO implement this  \n",
        "  p = 100\n",
        "  m =  mse(y,p)\n",
        "  if(m> 1e-10): p = 20*np.log10(1.0/np.sqrt(m))\n",
        "  return p\n",
        "    "
      ],
      "metadata": {
        "id": "CdJbDPL9iOer"
      },
      "execution_count": 9,
      "outputs": []
    },
    {
      "cell_type": "markdown",
      "source": [
        "### Plotting"
      ],
      "metadata": {
        "id": "yeXQlG8T7ZzD"
      }
    },
    {
      "cell_type": "code",
      "source": [
        "def plot_training_curves(train_loss, train_psnr, test_psnr):\n",
        "  # plot the training loss\n",
        "  plt.subplot(2, 1, 1)\n",
        "  plt.plot(train_loss)\n",
        "  plt.title('MSE history')\n",
        "  plt.xlabel('Iteration')\n",
        "  plt.ylabel('MSE Loss')\n",
        "\n",
        "  # plot the training and testing psnr\n",
        "  plt.subplot(2, 1, 2)\n",
        "  plt.plot(train_psnr, label='train')\n",
        "  plt.plot(test_psnr, label='test')\n",
        "  plt.title('PSNR history')\n",
        "  plt.xlabel('Iteration')\n",
        "  plt.ylabel('PSNR')\n",
        "  plt.legend()\n",
        "\n",
        "  plt.tight_layout()\n",
        "  plt.show()"
      ],
      "metadata": {
        "id": "3SniGS2aA_Ic"
      },
      "execution_count": 11,
      "outputs": []
    },
    {
      "cell_type": "code",
      "source": [
        "def plot_reconstruction(p, y):\n",
        "  p_im = p.reshape(size,size,3)\n",
        "  y_im = y.reshape(size,size,3)\n",
        "\n",
        "  plt.figure(figsize=(12,6))\n",
        "\n",
        "  # plot the reconstruction of the image\n",
        "  plt.subplot(1,2,1), plt.imshow(p_im), plt.title(\"reconstruction\")\n",
        "\n",
        "  # plot the ground truth image\n",
        "  plt.subplot(1,2,2), plt.imshow(y_im), plt.title(\"ground truth\")\n",
        "\n",
        "  print(\"Final Test MSE\", mse(y, p))\n",
        "  print(\"Final Test psnr\",psnr(y, p))"
      ],
      "metadata": {
        "id": "GXY0gCikFAup"
      },
      "execution_count": 17,
      "outputs": []
    },
    {
      "cell_type": "code",
      "source": [
        "def plot_reconstruction_progress(predicted_images, y, N=8):\n",
        "  total = len(predicted_images)\n",
        "  step = total // N\n",
        "  plt.figure(figsize=(24, 4))\n",
        "\n",
        "  # plot the progress of reconstructions\n",
        "  for i, j in enumerate(range(0,total, step)):\n",
        "      plt.subplot(1, N, i+1)\n",
        "      plt.imshow(predicted_images[j].reshape(size,size,3))\n",
        "      plt.axis(\"off\")\n",
        "      plt.title(f\"iter {j}\")\n",
        "\n",
        "  # plot ground truth image\n",
        "  plt.subplot(1, N+1, N+1)\n",
        "  plt.imshow(y.reshape(size,size,3))\n",
        "  plt.title('GT')\n",
        "  plt.axis(\"off\")\n",
        "  plt.show()"
      ],
      "metadata": {
        "id": "VcYZUf9RE-2a"
      },
      "execution_count": 18,
      "outputs": []
    },
    {
      "cell_type": "code",
      "source": [
        "def plot_feature_mapping_comparison(outputs, gt):\n",
        "  # plot reconstruction images for each mapping\n",
        "  plt.figure(figsize=(24, 4))\n",
        "  N = len(outputs)\n",
        "  for i, k in enumerate(outputs):\n",
        "      plt.subplot(1, N+1, i+1)\n",
        "      plt.imshow(outputs[k]['pred_imgs'][-1].reshape(size, size, -1))\n",
        "      plt.title(k)\n",
        "  plt.subplot(1, N+1, N+1)\n",
        "  plt.imshow(gt)\n",
        "  plt.title('GT')\n",
        "  plt.show()\n",
        "\n",
        "  # plot train/test error curves for each mapping\n",
        "  iters = len(outputs[k]['train_psnrs'])\n",
        "  plt.figure(figsize=(16, 6))\n",
        "  plt.subplot(121)\n",
        "  for i, k in enumerate(outputs):\n",
        "      plt.plot(range(iters), outputs[k]['train_psnrs'], label=k)\n",
        "  plt.title('Train error')\n",
        "  plt.ylabel('PSNR')\n",
        "  plt.xlabel('Training iter')\n",
        "  plt.legend()\n",
        "  plt.subplot(122)\n",
        "  for i, k in enumerate(outputs):\n",
        "      plt.plot(range(iters), outputs[k]['test_psnrs'], label=k)\n",
        "  plt.title('Test error')\n",
        "  plt.ylabel('PSNR')\n",
        "  plt.xlabel('Training iter')\n",
        "  plt.legend()\n",
        "  plt.show()"
      ],
      "metadata": {
        "id": "C3r5qSy3E9jy"
      },
      "execution_count": 19,
      "outputs": []
    },
    {
      "cell_type": "code",
      "source": [
        "# Save out video\n",
        "def create_and_visualize_video(outputs, size=size, epochs=epochs, filename='training_convergence.mp4'):\n",
        "  all_preds = np.concatenate([outputs[n]['pred_imgs'].reshape(epochs,size,size,3)[::25] for n in outputs], axis=-2)\n",
        "  data8 = (255*np.clip(all_preds, 0, 1)).astype(np.uint8)\n",
        "  f = os.path.join(filename)\n",
        "  imageio.mimwrite(f, data8, fps=20)\n",
        "\n",
        "  # Display video inline\n",
        "  from IPython.display import HTML\n",
        "  from base64 import b64encode\n",
        "  mp4 = open(f, 'rb').read()\n",
        "  data_url = \"data:video/mp4;base64,\" + b64encode(mp4).decode()\n",
        "\n",
        "  N = len(outputs)\n",
        "  if N == 1:\n",
        "    return HTML(f'''\n",
        "    <video width=256 controls autoplay loop>\n",
        "          <source src=\"{data_url}\" type=\"video/mp4\">\n",
        "    </video>\n",
        "    ''')\n",
        "  else:\n",
        "    return HTML(f'''\n",
        "    <video width=1000 controls autoplay loop>\n",
        "          <source src=\"{data_url}\" type=\"video/mp4\">\n",
        "    </video>\n",
        "    <table width=\"1000\" cellspacing=\"0\" cellpadding=\"0\">\n",
        "      <tr>{''.join(N*[f'<td width=\"{1000//len(outputs)}\"></td>'])}</tr>\n",
        "      <tr>{''.join(N*['<td style=\"text-align:center\">{}</td>'])}</tr>\n",
        "    </table>\n",
        "    '''.format(*list(outputs.keys())))"
      ],
      "metadata": {
        "id": "k9c5MGtCE8Wf"
      },
      "execution_count": 20,
      "outputs": []
    },
    {
      "cell_type": "markdown",
      "source": [
        "# Low Resolution Reconstruction"
      ],
      "metadata": {
        "id": "32nZKUI87j1U"
      }
    },
    {
      "cell_type": "code",
      "source": [
        "size = 32\n",
        "train_data, test_data = get_image(size)"
      ],
      "metadata": {
        "id": "uFU-rPCFn9mN",
        "colab": {
          "base_uri": "https://localhost:8080/",
          "height": 483
        },
        "outputId": "6cbe649e-8d36-477e-c16d-2fc847c1e37b"
      },
      "execution_count": 10,
      "outputs": [
        {
          "output_type": "display_data",
          "data": {
            "text/plain": [
              "<Figure size 720x576 with 1 Axes>"
            ],
            "image/png": "[encoded data removed]"
          },
          "metadata": {
            "needs_background": "light"
          }
        }
      ]
    },
    {
      "cell_type": "markdown",
      "source": [
        "Some suggested hyperparameter choices to help you start\n",
        "- hidden layer count: 4\n",
        "- hidden layer size: 256\n",
        "- number of epochs: 1000\n",
        "- learning reate: 1e-4\n"
      ],
      "metadata": {
        "id": "csKDsiLaALNs"
      }
    },
    {
      "cell_type": "markdown",
      "source": [
        "#### Low Resolution Reconstruction - SGD - None Mapping"
      ],
      "metadata": {
        "id": "63CMVVY9pCYy"
      }
    },
    {
      "cell_type": "code",
      "source": [
        "# get input features\n",
        "# TODO implement this by using the get_B_dict() and get_input_features() helper functions\n",
        "B_dict = get_B_dict()\n",
        "#X: (N, D)\n",
        "#y: (N, C)\n",
        "#input dimension of N output dimension C. \n",
        "output_size = 3\n",
        "\n",
        "X_train, y_train, X_test, y_test = get_input_features(B_dict, 'none')\n",
        "\n",
        "learning_rate = 0.8\n",
        "epochs = 1000\n",
        "num_layers = 5\n",
        "hidden_size = 256\n",
        "hidden_sizes = [hidden_size] * (num_layers - 1)\n",
        "input_size = len(train_data)\n",
        "\n",
        "opt = 'SGD'\n",
        "# run NN experiment on input features\n",
        "# TODO implement by using the NN_experiment() helper function\n",
        "\n",
        "net, train_psnr, test_psnr, train_loss, predicted_images = NN_experiment(X_train, y_train, X_test, y_test, input_size, num_layers,\\\n",
        "                  hidden_size, hidden_sizes, output_size, epochs,\\\n",
        "                  learning_rate, opt)\n",
        "# plot results of experiment\n",
        "\n",
        "plot_training_curves(train_loss, train_psnr, test_psnr)\n",
        "plot_reconstruction(net.forward(X_test), y_test)\n",
        "plot_reconstruction_progress(predicted_images, y_test)\n",
        "# run NN experiment on input features\n",
        "# TODO implement by using the NN_experiment() helper function"
      ],
      "metadata": {
        "id": "RDcWCccppJHg",
        "colab": {
          "base_uri": "https://localhost:8080/",
          "height": 49,
          "referenced_widgets": [
            "c3f235e9d5924b63be8b889c620e12fe",
            "e9a70177d09948f19ddc77f6c54016f3",
            "c95f3aad042d4c4a96e18ae51bd8e323",
            "89eb98025e76414d9fc2e590faae91ac",
            "0927c497d5e74f2d8244f5c12d75df06",
            "d367cf5a7a3444ff917f1c119c8333f4",
            "85f9e806f99d4285ac75dc2251668ae5",
            "85d15aad59b44d1181955fc8079fde65",
            "ba1da03a690e4d4f80f2e0c79b6f2d1e",
            "c77768461770490bb321b9c037de1cce",
            "c345a1135593408d8dec9e62636488f7"
          ]
        },
        "outputId": "c1d4349a-9e9b-4689-dbd0-f574448055f6"
      },
      "execution_count": null,
      "outputs": [
        {
          "output_type": "display_data",
          "data": {
            "text/plain": [
              "  0%|          | 0/1000 [00:00<?, ?it/s]"
            ],
            "application/vnd.jupyter.widget-view+json": {
              "version_major": 2,
              "version_minor": 0,
              "model_id": "c3f235e9d5924b63be8b889c620e12fe"
            }
          },
          "metadata": {}
        }
      ]
    },
    {
      "cell_type": "markdown",
      "source": [
        "#### Low Resolution Reconstruction - Adam - None Mapping"
      ],
      "metadata": {
        "id": "gleWlEqDqzhi"
      }
    },
    {
      "cell_type": "code",
      "source": [
        "# get input features\n",
        "# TODO implement this by using the get_B_dict() and get_input_features() helper functions\n",
        "B_dict = get_B_dict()\n",
        "#X: (N, D)\n",
        "#y: (N, C)\n",
        "#input dimension of N output dimension C. \n",
        "output_size = 3\n",
        "X_train, y_train, X_test, y_test = get_input_features(B_dict, 'none')\n",
        "\n",
        "# run NN experiment on input features\n",
        "# TODO implement by using the NN_experiment() helper function\n",
        "learning_rate = 2.0e-3\n",
        "epochs = 1000\n",
        "num_layers = 5\n",
        "hidden_size = 256\n",
        "hidden_sizes = [hidden_size] * (num_layers - 1)\n",
        "input_size = len(train_data)\n",
        "\n",
        "opt = 'Adam'\n",
        "\n",
        "net, train_psnr, test_psnr, train_loss, predicted_images = NN_experiment(X_train, y_train, X_test, y_test, input_size, num_layers,\\\n",
        "                  hidden_size, hidden_sizes, output_size, epochs,\\\n",
        "                  learning_rate, opt)\n",
        "# plot results of experiment\n",
        "plot_training_curves(train_loss, train_psnr, test_psnr)\n",
        "plot_reconstruction(net.forward(X_test), y_test)\n",
        "plot_reconstruction_progress(predicted_images, y_test)"
      ],
      "metadata": {
        "id": "RVwNEfLSq_Ug"
      },
      "execution_count": null,
      "outputs": []
    },
    {
      "cell_type": "code",
      "source": [
        "# get input features\n",
        "# TODO implement this by using the get_B_dict() and get_input_features() helper functions\n",
        "B_dict = get_B_dict()\n",
        "#X: (N, D)\n",
        "#y: (N, C)\n",
        "#input dimension of N output dimension C. \n",
        "output_size = 3\n",
        "X_train, y_train, X_test, y_test = get_input_features(B_dict, 'basic')\n",
        "\n",
        "# run NN experiment on input features\n",
        "# TODO implement by using the NN_experiment() helper function\n",
        "learning_rate = 2.0e-3\n",
        "epochs = 1000\n",
        "num_layers = 5\n",
        "hidden_size = 256\n",
        "hidden_sizes = [hidden_size] * (num_layers - 1)\n",
        "input_size = len(X_train[0])\n",
        "\n",
        "opt = 'Adam'\n",
        "\n",
        "net, train_psnr, test_psnr, train_loss, predicted_images = NN_experiment(X_train, y_train, X_test, y_test, input_size, num_layers,\\\n",
        "                  hidden_size, hidden_sizes, output_size, epochs,\\\n",
        "                  learning_rate, opt)\n",
        "# plot results of experiment\n",
        "plot_training_curves(train_loss, train_psnr, test_psnr)\n",
        "plot_reconstruction(net.forward(X_test), y_test)\n",
        "plot_reconstruction_progress(predicted_images, y_test)"
      ],
      "metadata": {
        "id": "aGqAXHIT_wP9"
      },
      "execution_count": null,
      "outputs": []
    },
    {
      "cell_type": "markdown",
      "source": [
        "#### Low Resolution Reconstruction - Optimizer of your Choice - Various Input Mapping Stategies"
      ],
      "metadata": {
        "id": "hvD5bj__qpjr"
      }
    },
    {
      "cell_type": "code",
      "source": [
        "def train_wrapper(mapping, size, opt):\n",
        "  # TODO implement\n",
        "  # makes it easy to run all your mapping experiments in a for loop\n",
        "  # this will similar to what you did previously in the last two sections\n",
        "  B_dict = get_B_dict()\n",
        "  #X: (N, D)\n",
        "  #y: (N, C)\n",
        "  #input dimension of N output dimension C. \n",
        "  output_size = 3\n",
        "  \n",
        "  X_train, y_train, X_test, y_test = get_input_features(B_dict, mapping)\n",
        "\n",
        "  # run NN experiment on input features\n",
        "  # TODO implement by using the NN_experiment() helper function\n",
        "  learning_rate = 5.0e-3\n",
        "  epochs = 1000\n",
        "  num_layers = 5\n",
        "  hidden_size = 256\n",
        "  hidden_sizes = [hidden_size] * (num_layers - 1)\n",
        "  input_size = len(X_train[0])\n",
        "\n",
        "  if(mapping=='none'): pass\n",
        "  elif(mapping=='basic'): \n",
        "\n",
        "  opt = 'Adam'\n",
        "\n",
        "  net, train_psnrs, test_psnrs, train_loss, predicted_images = NN_experiment(X_train, y_train, X_test, y_test, input_size, num_layers,\\\n",
        "                    hidden_size, hidden_sizes, output_size, epochs,\\\n",
        "                    learning_rate, opt)\n",
        "\n",
        "  plot_reconstruction(net.forward(X_test), y_test)\n",
        "  plot_reconstruction_progress(predicted_images, y_test)\n",
        "  return {\n",
        "      'net': net, \n",
        "      'train_psnrs': train_psnrs, \n",
        "      'test_psnrs': test_psnrs,\n",
        "      'train_loss': train_loss,\n",
        "      'pred_imgs': predicted_images\n",
        "  }\n",
        "\n"
      ],
      "metadata": {
        "id": "xJn8Dp8IrBYI"
      },
      "execution_count": 146,
      "outputs": []
    },
    {
      "cell_type": "code",
      "source": [
        "outputs = {}\n",
        "for k in tqdm(B_dict):\n",
        "  print(\"training\", k)\n",
        "  outputs[k] = train_wrapper(k, size, opt)"
      ],
      "metadata": {
        "id": "3-8E-xZFCLr6",
        "colab": {
          "base_uri": "https://localhost:8080/",
          "height": 1000,
          "referenced_widgets": [
            "49647125d2cf4a1a9a08a398a4d9559b",
            "673e2524981d4940acb703df03fabd1d",
            "b95caa090ad440c48b2a9a6cfe71969d",
            "3afebb2169e1423da4b2f7468f0774fc",
            "f74470295f2342048d9f1d0fba8ff4f1",
            "1770b3cd6dfe474595c187cf17ae1096",
            "37eef41122e34f9b86a04ddc99e30073",
            "acb702810717468f9b67da7f2f1537bc",
            "3d135e84f57249659193c2516a05c287",
            "78ca6fa317d74270a5b8085b9c098cfc",
            "ba00fcdfce974855b963216b89cdb1dc",
            "5486cbfcaca74db29558bcb9a9e72085",
            "43443d076a2d45f5aa2adc558269588c",
            "c3e480a4fd044c3399a2a6a1f167ed8b",
            "47a42a9092aa4caf9de41e22a6bb3bcd",
            "d7e8bf2762ae49c0a6125096c8ce452a",
            "3a45c7a0af51460f8884165365867d7c",
            "b6ed9e690f9b40c58826c65041c31189",
            "25f463c697624aa0a365b1606722bf70",
            "6d64679286d44c49aa3a97c28a204a6f",
            "208f1a1000924ccfa9553ac7212cfa3f",
            "5ff817d7769b4799acefa02c66a373df",
            "be047455cf054f10a232b752967ae03c",
            "f9c8005ce7ee4b4ab03dba0cccd839c3",
            "5c08a70dd52548ff8f89e3f9fe102569",
            "93b8099945b7430eaef804611e2c5a37",
            "e7fd9f451a8b4e3fa4882296ff07d2fe",
            "1561ff32f2514900b2151a8c1e496f35",
            "ed7d42350239490b952d8891d33ce1b0",
            "8653c2e5b85340a0ad7783ffa1572082",
            "644c0464529b40c183d31a137b22fad0",
            "3cf63f8c84fa4dcdb708726074e929f9",
            "2f942b200ffa4166abd7367bd9faf63a",
            "d5c1d0735341442aaa5bb028eec3e386",
            "7a91d9cc9f7c46aba8d8992578ce2692",
            "b4507bfe8cca4197becba55de5ffa4c6",
            "8eda83af4d0348ecb8453b1a45f4af93",
            "32f2a684b9b84704a0384e1b6fd212ad",
            "94a0a5f11b034315a9864ec546542072",
            "e0d9b79f51c042cc8d6f47ba49be19c4",
            "a345680fc3354370af1d018c63fdd0b0",
            "4c2cebd7b3004da692d7ab987c2fe452",
            "ffc07ca48f0a4a1ea4acf74b40d655f1",
            "6af62364deb84d8da8da1c9998edf88b",
            "5a7c597fe9b54e11a17ff638f8036c23",
            "452380e456d646e7b5faa19bbeb664b1",
            "0646720a5e03420794b8a55642cb3622",
            "e205bbe6023e4b069c86d72a513f6c13",
            "c413f9bcd6b44e26947414748f56f8f9",
            "2cb22a672ee24c99966fc4c7028d44a9",
            "0746414510a747b8a419fa10c96c7add",
            "a43419abdb6a44cc8785800a797fc53d",
            "aad6431d97ba4870be46f271150da9d9",
            "1f762ccaed234247a41807432670e749",
            "8726077639e446d9a76a653a8219f2ca",
            "863fea834c2e45619138aa141b6d0200",
            "afc5c0be36fe4e7790c3a81d67a4b79d",
            "70c7178b62a942e8ac04dadb71a0fa4e",
            "025e68e1cb8a4d85bb3c30e1b775db92",
            "777e02029ada4cc7877495aa54771713",
            "32bf85c744724fa78ed3e8a709b2aaa2",
            "5c585e9c72f94b239f63e6924ee2fa17",
            "cb25b33bf4654623a5b1f06684f45dcf",
            "a55ea13c7438471a8970e3bfd2850f13",
            "d684938f6a904ac8b8ebc374951794ff",
            "8f912895dc164539a10747914ec9aa28"
          ]
        },
        "outputId": "e9669242-1df5-417b-f1a1-f7b8402c6260"
      },
      "execution_count": 147,
      "outputs": [
        {
          "output_type": "display_data",
          "data": {
            "text/plain": [
              "  0%|          | 0/5 [00:00<?, ?it/s]"
            ],
            "application/vnd.jupyter.widget-view+json": {
              "version_major": 2,
              "version_minor": 0,
              "model_id": "49647125d2cf4a1a9a08a398a4d9559b"
            }
          },
          "metadata": {}
        },
        {
          "output_type": "stream",
          "name": "stdout",
          "text": [
            "training none\n"
          ]
        },
        {
          "output_type": "display_data",
          "data": {
            "text/plain": [
              "  0%|          | 0/1000 [00:00<?, ?it/s]"
            ],
            "application/vnd.jupyter.widget-view+json": {
              "version_major": 2,
              "version_minor": 0,
              "model_id": "5486cbfcaca74db29558bcb9a9e72085"
            }
          },
          "metadata": {}
        },
        {
          "output_type": "stream",
          "name": "stdout",
          "text": [
            "Final Test MSE 0.005372563165063165\n",
            "Final Test psnr -36.95012406004372\n"
          ]
        },
        {
          "output_type": "display_data",
          "data": {
            "text/plain": [
              "<Figure size 864x432 with 2 Axes>"
            ],
            "image/png": "[encoded data removed]"
          },
          "metadata": {
            "needs_background": "light"
          }
        },
        {
          "output_type": "display_data",
          "data": {
            "text/plain": [
              "<Figure size 1728x288 with 8 Axes>"
            ],
            "image/png": "[encoded data removed]"
          },
          "metadata": {
            "needs_background": "light"
          }
        },
        {
          "output_type": "stream",
          "name": "stdout",
          "text": [
            "training basic\n"
          ]
        },
        {
          "output_type": "display_data",
          "data": {
            "text/plain": [
              "  0%|          | 0/1000 [00:00<?, ?it/s]"
            ],
            "application/vnd.jupyter.widget-view+json": {
              "version_major": 2,
              "version_minor": 0,
              "model_id": "be047455cf054f10a232b752967ae03c"
            }
          },
          "metadata": {}
        },
        {
          "output_type": "stream",
          "name": "stdout",
          "text": [
            "Final Test MSE 0.005670609611404327\n",
            "Final Test psnr -36.95012406004372\n"
          ]
        },
        {
          "output_type": "display_data",
          "data": {
            "text/plain": [
              "<Figure size 864x432 with 2 Axes>"
            ],
            "image/png": "[encoded data removed]"
          },
          "metadata": {
            "needs_background": "light"
          }
        },
        {
          "output_type": "display_data",
          "data": {
            "text/plain": [
              "<Figure size 1728x288 with 8 Axes>"
            ],
            "image/png": "[encoded data removed]"
          },
          "metadata": {
            "needs_background": "light"
          }
        },
        {
          "output_type": "stream",
          "name": "stdout",
          "text": [
            "training gauss_1.0\n"
          ]
        },
        {
          "output_type": "display_data",
          "data": {
            "text/plain": [
              "  0%|          | 0/1000 [00:00<?, ?it/s]"
            ],
            "application/vnd.jupyter.widget-view+json": {
              "version_major": 2,
              "version_minor": 0,
              "model_id": "d5c1d0735341442aaa5bb028eec3e386"
            }
          },
          "metadata": {}
        },
        {
          "output_type": "stream",
          "name": "stdout",
          "text": [
            "Final Test MSE 0.005366546899612498\n",
            "Final Test psnr -36.95012406004372\n"
          ]
        },
        {
          "output_type": "display_data",
          "data": {
            "text/plain": [
              "<Figure size 864x432 with 2 Axes>"
            ],
            "image/png": "[encoded data removed]"
          },
          "metadata": {
            "needs_background": "light"
          }
        },
        {
          "output_type": "display_data",
          "data": {
            "text/plain": [
              "<Figure size 1728x288 with 8 Axes>"
            ],
            "image/png": "[encoded data removed]"
          },
          "metadata": {
            "needs_background": "light"
          }
        },
        {
          "output_type": "stream",
          "name": "stdout",
          "text": [
            "training gauss_10.0\n"
          ]
        },
        {
          "output_type": "display_data",
          "data": {
            "text/plain": [
              "  0%|          | 0/1000 [00:00<?, ?it/s]"
            ],
            "application/vnd.jupyter.widget-view+json": {
              "version_major": 2,
              "version_minor": 0,
              "model_id": "5a7c597fe9b54e11a17ff638f8036c23"
            }
          },
          "metadata": {}
        },
        {
          "output_type": "stream",
          "name": "stdout",
          "text": [
            "Final Test MSE 0.019514547442640487\n",
            "Final Test psnr -36.95012406004372\n"
          ]
        },
        {
          "output_type": "display_data",
          "data": {
            "text/plain": [
              "<Figure size 864x432 with 2 Axes>"
            ],
            "image/png": "[encoded data removed]"
          },
          "metadata": {
            "needs_background": "light"
          }
        },
        {
          "output_type": "display_data",
          "data": {
            "text/plain": [
              "<Figure size 1728x288 with 8 Axes>"
            ],
            "image/png": "[encoded data removed]"
          },
          "metadata": {
            "needs_background": "light"
          }
        },
        {
          "output_type": "stream",
          "name": "stdout",
          "text": [
            "training gauss_100.0\n"
          ]
        },
        {
          "output_type": "display_data",
          "data": {
            "text/plain": [
              "  0%|          | 0/1000 [00:00<?, ?it/s]"
            ],
            "application/vnd.jupyter.widget-view+json": {
              "version_major": 2,
              "version_minor": 0,
              "model_id": "863fea834c2e45619138aa141b6d0200"
            }
          },
          "metadata": {}
        },
        {
          "output_type": "stream",
          "name": "stdout",
          "text": [
            "Final Test MSE 0.02103164597155691\n",
            "Final Test psnr -36.95012406004372\n"
          ]
        },
        {
          "output_type": "display_data",
          "data": {
            "text/plain": [
              "<Figure size 864x432 with 2 Axes>"
            ],
            "image/png": "[encoded data removed]"
          },
          "metadata": {
            "needs_background": "light"
          }
        },
        {
          "output_type": "display_data",
          "data": {
            "text/plain": [
              "<Figure size 1728x288 with 8 Axes>"
            ],
            "image/png": "[encoded data removed]"
          },
          "metadata": {
            "needs_background": "light"
          }
        }
      ]
    },
    {
      "cell_type": "code",
      "source": [
        "# if you did everything correctly so far, this should output a nice figure you can use in your report\n",
        "plot_feature_mapping_comparison(outputs, y_test.reshape(size,size,3))"
      ],
      "metadata": {
        "id": "lHshB7AvvwKC",
        "colab": {
          "base_uri": "https://localhost:8080/",
          "height": 605
        },
        "outputId": "56901c6a-0c86-4035-94b2-f4cc7e62d866"
      },
      "execution_count": 150,
      "outputs": [
        {
          "output_type": "display_data",
          "data": {
            "text/plain": [
              "<Figure size 1728x288 with 6 Axes>"
            ],
            "image/png": "[encoded data removed]"
          },
          "metadata": {
            "needs_background": "light"
          }
        },
        {
          "output_type": "display_data",
          "data": {
            "text/plain": [
              "<Figure size 1152x432 with 2 Axes>"
            ],
            "image/png": "[encoded data removed]"
          },
          "metadata": {
            "needs_background": "light"
          }
        }
      ]
    },
    {
      "cell_type": "markdown",
      "source": [
        "# High Resolution Reconstruction"
      ],
      "metadata": {
        "id": "R3Xp9T9GxmS8"
      }
    },
    {
      "cell_type": "markdown",
      "source": [
        "#### High Resolution Reconstruction - Optimizer of your Choice - Various Input Mapping Stategies"
      ],
      "metadata": {
        "id": "PqiF7mqksn1M"
      }
    },
    {
      "cell_type": "markdown",
      "source": [
        "Repeat the previous experiment, but at the higher resolution. The reason why we have you first experiment with the lower resolution since it is faster to train and debug. Additionally, you will see how the mapping strategies perform better or worse at the two different input resolutions. "
      ],
      "metadata": {
        "id": "wCcGOG_tstpz"
      }
    },
    {
      "cell_type": "code",
      "source": [
        "size = 128\n",
        "train_data, test_data = get_image(size)"
      ],
      "metadata": {
        "id": "aoXjcQ1Wxski"
      },
      "execution_count": null,
      "outputs": []
    },
    {
      "cell_type": "code",
      "source": [
        "outputs = {}\n",
        "for k in tqdm(B_dict):\n",
        "  print(\"training\", k)\n",
        "  outputs[k] = train_wrapper(k, size,)"
      ],
      "metadata": {
        "id": "A6xpU_WvskOh"
      },
      "execution_count": null,
      "outputs": []
    },
    {
      "cell_type": "markdown",
      "source": [
        "#### High Resolution Reconstruction - Image of your Choice"
      ],
      "metadata": {
        "id": "BG2wNhrkvtFz"
      }
    },
    {
      "cell_type": "markdown",
      "source": [
        "When choosing an image select one that you think will give you interesting results or a better insight into the performance of different feature mappings and explain why in your report template. "
      ],
      "metadata": {
        "id": "c8fm-X0wxY6f"
      }
    },
    {
      "cell_type": "code",
      "source": [
        "size = 128\n",
        "# TODO pick an image and replace the url string\n",
        "train_data, test_data = get_image(size, image_url=\"YOUR URL HERE\")"
      ],
      "metadata": {
        "id": "-NLWTXXVvsZt"
      },
      "execution_count": null,
      "outputs": []
    },
    {
      "cell_type": "code",
      "source": [
        "# get input features\n",
        "# TODO implement this by using the get_B_dict() and get_input_features() helper functions\n",
        "\n",
        "# run NN experiment on input features\n",
        "# TODO implement by using the NN_experiment() helper function\n",
        "# TODO implement this by using the get_B_dict() and get_input_features() helper functions\n",
        "B_dict = get_B_dict()\n",
        "#X: (N, D)\n",
        "#y: (N, C)\n",
        "#input dimension of N output dimension C. \n",
        "output_size = 3\n",
        "X_train, y_train, X_test, y_test = get_input_features(B_dict, 'none')\n",
        "\n",
        "# run NN experiment on input features\n",
        "# TODO implement by using the NN_experiment() helper function\n",
        "learning_rate = 5.0e-3\n",
        "epochs = 1000\n",
        "num_layers = 5\n",
        "hidden_size = 256\n",
        "hidden_sizes = [hidden_size] * (num_layers - 1)\n",
        "input_size = len(X_train[0])\n",
        "\n",
        "opt = 'Adam'\n",
        "\n",
        "net, train_psnr, test_psnr, train_loss, predicted_images = NN_experiment(X_train, y_train, X_test, y_test, input_size, num_layers,\\\n",
        "                  hidden_size, hidden_sizes, output_size, epochs,\\\n",
        "                  learning_rate, opt)\n",
        "# plot results of experiment\n",
        "\n",
        "plot_training_curves(train_loss, train_psnr, test_psnr)\n",
        "plot_reconstruction(net.forward(X_test), y_test)\n",
        "plot_reconstruction_progress(predicted_images, y_test)"
      ],
      "metadata": {
        "id": "y4rA4SnRwH2u"
      },
      "execution_count": null,
      "outputs": []
    },
    {
      "cell_type": "markdown",
      "source": [
        "# Reconstruction Process Video (Optional)\n",
        "(For Fun!) Visualize the progress of training in a video "
      ],
      "metadata": {
        "id": "jCE0yV-ytIu3"
      }
    },
    {
      "cell_type": "code",
      "source": [
        "# requires installing this additional dependency\n",
        "!pip install imageio-ffmpeg"
      ],
      "metadata": {
        "id": "NkDM58n_tlMe"
      },
      "execution_count": null,
      "outputs": []
    },
    {
      "cell_type": "code",
      "source": [
        "# single video example\n",
        "create_and_visualize_video({\"gauss\": {\"pred_imgs\": predicted_images}}, filename=\"training_high_res_gauss.mp4\")"
      ],
      "metadata": {
        "id": "ZKA5lnTED2a5"
      },
      "execution_count": null,
      "outputs": []
    },
    {
      "cell_type": "code",
      "source": [
        "# multi video example\n",
        "create_and_visualize_video(outputs, epochs=1000, size=32)"
      ],
      "metadata": {
        "id": "ucNEYrqQvXsy"
      },
      "execution_count": null,
      "outputs": []
    },
    {
      "cell_type": "code",
      "source": [],
      "metadata": {
        "id": "v0pYTJVg5PBL"
      },
      "execution_count": null,
      "outputs": []
    }
  ],
  "metadata": {
    "accelerator": "GPU",
    "colab": {
      "provenance": [],
      "collapsed_sections": [
        "g1PrabcYcszP",
        "wILGPb5Ccuxm",
        "EfPlwYF07wB_",
        "jWYSuPu2mP8x",
        "-XZiVy05or2V",
        "yeXQlG8T7ZzD"
      ]
    },
    "kernelspec": {
      "display_name": "Python 3.9.0 ('nerf2d')",
      "language": "python",
      "name": "python3"
    },
    "language_info": {
      "codemirror_mode": {
        "name": "ipython",
        "version": 3
      },
      "file_extension": ".py",
      "mimetype": "text/x-python",
      "name": "python",
      "nbconvert_exporter": "python",
      "pygments_lexer": "ipython3",
      "version": "3.9.0"
    },
    "vscode": {
      "interpreter": {
        "hash": "8ef14a750bb45c018324ac0fece7391260ac57ea293d4b9e36be86c8e7ac53c2"
      }
    },
    "gpuClass": "standard",
    "widgets": {
      "application/vnd.jupyter.widget-state+json": {
        "c3f235e9d5924b63be8b889c620e12fe": {
          "model_module": "@jupyter-widgets/controls",
          "model_name": "HBoxModel",
          "model_module_version": "1.5.0",
          "state": {
            "_dom_classes": [],
            "_model_module": "@jupyter-widgets/controls",
            "_model_module_version": "1.5.0",
            "_model_name": "HBoxModel",
            "_view_count": null,
            "_view_module": "@jupyter-widgets/controls",
            "_view_module_version": "1.5.0",
            "_view_name": "HBoxView",
            "box_style": "",
            "children": [
              "IPY_MODEL_e9a70177d09948f19ddc77f6c54016f3",
              "IPY_MODEL_c95f3aad042d4c4a96e18ae51bd8e323",
              "IPY_MODEL_89eb98025e76414d9fc2e590faae91ac"
            ],
            "layout": "IPY_MODEL_0927c497d5e74f2d8244f5c12d75df06"
          }
        },
        "e9a70177d09948f19ddc77f6c54016f3": {
          "model_module": "@jupyter-widgets/controls",
          "model_name": "HTMLModel",
          "model_module_version": "1.5.0",
          "state": {
            "_dom_classes": [],
            "_model_module": "@jupyter-widgets/controls",
            "_model_module_version": "1.5.0",
            "_model_name": "HTMLModel",
            "_view_count": null,
            "_view_module": "@jupyter-widgets/controls",
            "_view_module_version": "1.5.0",
            "_view_name": "HTMLView",
            "description": "",
            "description_tooltip": null,
            "layout": "IPY_MODEL_d367cf5a7a3444ff917f1c119c8333f4",
            "placeholder": "​",
            "style": "IPY_MODEL_85f9e806f99d4285ac75dc2251668ae5",
            "value": " 64%"
          }
        },
        "c95f3aad042d4c4a96e18ae51bd8e323": {
          "model_module": "@jupyter-widgets/controls",
          "model_name": "FloatProgressModel",
          "model_module_version": "1.5.0",
          "state": {
            "_dom_classes": [],
            "_model_module": "@jupyter-widgets/controls",
            "_model_module_version": "1.5.0",
            "_model_name": "FloatProgressModel",
            "_view_count": null,
            "_view_module": "@jupyter-widgets/controls",
            "_view_module_version": "1.5.0",
            "_view_name": "ProgressView",
            "bar_style": "",
            "description": "",
            "description_tooltip": null,
            "layout": "IPY_MODEL_85d15aad59b44d1181955fc8079fde65",
            "max": 1000,
            "min": 0,
            "orientation": "horizontal",
            "style": "IPY_MODEL_ba1da03a690e4d4f80f2e0c79b6f2d1e",
            "value": 637
          }
        },
        "89eb98025e76414d9fc2e590faae91ac": {
          "model_module": "@jupyter-widgets/controls",
          "model_name": "HTMLModel",
          "model_module_version": "1.5.0",
          "state": {
            "_dom_classes": [],
            "_model_module": "@jupyter-widgets/controls",
            "_model_module_version": "1.5.0",
            "_model_name": "HTMLModel",
            "_view_count": null,
            "_view_module": "@jupyter-widgets/controls",
            "_view_module_version": "1.5.0",
            "_view_name": "HTMLView",
            "description": "",
            "description_tooltip": null,
            "layout": "IPY_MODEL_c77768461770490bb321b9c037de1cce",
            "placeholder": "​",
            "style": "IPY_MODEL_c345a1135593408d8dec9e62636488f7",
            "value": " 637/1000 [00:29&lt;00:13, 27.64it/s]"
          }
        },
        "0927c497d5e74f2d8244f5c12d75df06": {
          "model_module": "@jupyter-widgets/base",
          "model_name": "LayoutModel",
          "model_module_version": "1.2.0",
          "state": {
            "_model_module": "@jupyter-widgets/base",
            "_model_module_version": "1.2.0",
            "_model_name": "LayoutModel",
            "_view_count": null,
            "_view_module": "@jupyter-widgets/base",
            "_view_module_version": "1.2.0",
            "_view_name": "LayoutView",
            "align_content": null,
            "align_items": null,
            "align_self": null,
            "border": null,
            "bottom": null,
            "display": null,
            "flex": null,
            "flex_flow": null,
            "grid_area": null,
            "grid_auto_columns": null,
            "grid_auto_flow": null,
            "grid_auto_rows": null,
            "grid_column": null,
            "grid_gap": null,
            "grid_row": null,
            "grid_template_areas": null,
            "grid_template_columns": null,
            "grid_template_rows": null,
            "height": null,
            "justify_content": null,
            "justify_items": null,
            "left": null,
            "margin": null,
            "max_height": null,
            "max_width": null,
            "min_height": null,
            "min_width": null,
            "object_fit": null,
            "object_position": null,
            "order": null,
            "overflow": null,
            "overflow_x": null,
            "overflow_y": null,
            "padding": null,
            "right": null,
            "top": null,
            "visibility": null,
            "width": null
          }
        },
        "d367cf5a7a3444ff917f1c119c8333f4": {
          "model_module": "@jupyter-widgets/base",
          "model_name": "LayoutModel",
          "model_module_version": "1.2.0",
          "state": {
            "_model_module": "@jupyter-widgets/base",
            "_model_module_version": "1.2.0",
            "_model_name": "LayoutModel",
            "_view_count": null,
            "_view_module": "@jupyter-widgets/base",
            "_view_module_version": "1.2.0",
            "_view_name": "LayoutView",
            "align_content": null,
            "align_items": null,
            "align_self": null,
            "border": null,
            "bottom": null,
            "display": null,
            "flex": null,
            "flex_flow": null,
            "grid_area": null,
            "grid_auto_columns": null,
            "grid_auto_flow": null,
            "grid_auto_rows": null,
            "grid_column": null,
            "grid_gap": null,
            "grid_row": null,
            "grid_template_areas": null,
            "grid_template_columns": null,
            "grid_template_rows": null,
            "height": null,
            "justify_content": null,
            "justify_items": null,
            "left": null,
            "margin": null,
            "max_height": null,
            "max_width": null,
            "min_height": null,
            "min_width": null,
            "object_fit": null,
            "object_position": null,
            "order": null,
            "overflow": null,
            "overflow_x": null,
            "overflow_y": null,
            "padding": null,
            "right": null,
            "top": null,
            "visibility": null,
            "width": null
          }
        },
        "85f9e806f99d4285ac75dc2251668ae5": {
          "model_module": "@jupyter-widgets/controls",
          "model_name": "DescriptionStyleModel",
          "model_module_version": "1.5.0",
          "state": {
            "_model_module": "@jupyter-widgets/controls",
            "_model_module_version": "1.5.0",
            "_model_name": "DescriptionStyleModel",
            "_view_count": null,
            "_view_module": "@jupyter-widgets/base",
            "_view_module_version": "1.2.0",
            "_view_name": "StyleView",
            "description_width": ""
          }
        },
        "85d15aad59b44d1181955fc8079fde65": {
          "model_module": "@jupyter-widgets/base",
          "model_name": "LayoutModel",
          "model_module_version": "1.2.0",
          "state": {
            "_model_module": "@jupyter-widgets/base",
            "_model_module_version": "1.2.0",
            "_model_name": "LayoutModel",
            "_view_count": null,
            "_view_module": "@jupyter-widgets/base",
            "_view_module_version": "1.2.0",
            "_view_name": "LayoutView",
            "align_content": null,
            "align_items": null,
            "align_self": null,
            "border": null,
            "bottom": null,
            "display": null,
            "flex": null,
            "flex_flow": null,
            "grid_area": null,
            "grid_auto_columns": null,
            "grid_auto_flow": null,
            "grid_auto_rows": null,
            "grid_column": null,
            "grid_gap": null,
            "grid_row": null,
            "grid_template_areas": null,
            "grid_template_columns": null,
            "grid_template_rows": null,
            "height": null,
            "justify_content": null,
            "justify_items": null,
            "left": null,
            "margin": null,
            "max_height": null,
            "max_width": null,
            "min_height": null,
            "min_width": null,
            "object_fit": null,
            "object_position": null,
            "order": null,
            "overflow": null,
            "overflow_x": null,
            "overflow_y": null,
            "padding": null,
            "right": null,
            "top": null,
            "visibility": null,
            "width": null
          }
        },
        "ba1da03a690e4d4f80f2e0c79b6f2d1e": {
          "model_module": "@jupyter-widgets/controls",
          "model_name": "ProgressStyleModel",
          "model_module_version": "1.5.0",
          "state": {
            "_model_module": "@jupyter-widgets/controls",
            "_model_module_version": "1.5.0",
            "_model_name": "ProgressStyleModel",
            "_view_count": null,
            "_view_module": "@jupyter-widgets/base",
            "_view_module_version": "1.2.0",
            "_view_name": "StyleView",
            "bar_color": null,
            "description_width": ""
          }
        },
        "c77768461770490bb321b9c037de1cce": {
          "model_module": "@jupyter-widgets/base",
          "model_name": "LayoutModel",
          "model_module_version": "1.2.0",
          "state": {
            "_model_module": "@jupyter-widgets/base",
            "_model_module_version": "1.2.0",
            "_model_name": "LayoutModel",
            "_view_count": null,
            "_view_module": "@jupyter-widgets/base",
            "_view_module_version": "1.2.0",
            "_view_name": "LayoutView",
            "align_content": null,
            "align_items": null,
            "align_self": null,
            "border": null,
            "bottom": null,
            "display": null,
            "flex": null,
            "flex_flow": null,
            "grid_area": null,
            "grid_auto_columns": null,
            "grid_auto_flow": null,
            "grid_auto_rows": null,
            "grid_column": null,
            "grid_gap": null,
            "grid_row": null,
            "grid_template_areas": null,
            "grid_template_columns": null,
            "grid_template_rows": null,
            "height": null,
            "justify_content": null,
            "justify_items": null,
            "left": null,
            "margin": null,
            "max_height": null,
            "max_width": null,
            "min_height": null,
            "min_width": null,
            "object_fit": null,
            "object_position": null,
            "order": null,
            "overflow": null,
            "overflow_x": null,
            "overflow_y": null,
            "padding": null,
            "right": null,
            "top": null,
            "visibility": null,
            "width": null
          }
        },
        "c345a1135593408d8dec9e62636488f7": {
          "model_module": "@jupyter-widgets/controls",
          "model_name": "DescriptionStyleModel",
          "model_module_version": "1.5.0",
          "state": {
            "_model_module": "@jupyter-widgets/controls",
            "_model_module_version": "1.5.0",
            "_model_name": "DescriptionStyleModel",
            "_view_count": null,
            "_view_module": "@jupyter-widgets/base",
            "_view_module_version": "1.2.0",
            "_view_name": "StyleView",
            "description_width": ""
          }
        },
        "49647125d2cf4a1a9a08a398a4d9559b": {
          "model_module": "@jupyter-widgets/controls",
          "model_name": "HBoxModel",
          "model_module_version": "1.5.0",
          "state": {
            "_dom_classes": [],
            "_model_module": "@jupyter-widgets/controls",
            "_model_module_version": "1.5.0",
            "_model_name": "HBoxModel",
            "_view_count": null,
            "_view_module": "@jupyter-widgets/controls",
            "_view_module_version": "1.5.0",
            "_view_name": "HBoxView",
            "box_style": "",
            "children": [
              "IPY_MODEL_673e2524981d4940acb703df03fabd1d",
              "IPY_MODEL_b95caa090ad440c48b2a9a6cfe71969d",
              "IPY_MODEL_3afebb2169e1423da4b2f7468f0774fc"
            ],
            "layout": "IPY_MODEL_f74470295f2342048d9f1d0fba8ff4f1"
          }
        },
        "673e2524981d4940acb703df03fabd1d": {
          "model_module": "@jupyter-widgets/controls",
          "model_name": "HTMLModel",
          "model_module_version": "1.5.0",
          "state": {
            "_dom_classes": [],
            "_model_module": "@jupyter-widgets/controls",
            "_model_module_version": "1.5.0",
            "_model_name": "HTMLModel",
            "_view_count": null,
            "_view_module": "@jupyter-widgets/controls",
            "_view_module_version": "1.5.0",
            "_view_name": "HTMLView",
            "description": "",
            "description_tooltip": null,
            "layout": "IPY_MODEL_1770b3cd6dfe474595c187cf17ae1096",
            "placeholder": "​",
            "style": "IPY_MODEL_37eef41122e34f9b86a04ddc99e30073",
            "value": "100%"
          }
        },
        "b95caa090ad440c48b2a9a6cfe71969d": {
          "model_module": "@jupyter-widgets/controls",
          "model_name": "FloatProgressModel",
          "model_module_version": "1.5.0",
          "state": {
            "_dom_classes": [],
            "_model_module": "@jupyter-widgets/controls",
            "_model_module_version": "1.5.0",
            "_model_name": "FloatProgressModel",
            "_view_count": null,
            "_view_module": "@jupyter-widgets/controls",
            "_view_module_version": "1.5.0",
            "_view_name": "ProgressView",
            "bar_style": "success",
            "description": "",
            "description_tooltip": null,
            "layout": "IPY_MODEL_acb702810717468f9b67da7f2f1537bc",
            "max": 5,
            "min": 0,
            "orientation": "horizontal",
            "style": "IPY_MODEL_3d135e84f57249659193c2516a05c287",
            "value": 5
          }
        },
        "3afebb2169e1423da4b2f7468f0774fc": {
          "model_module": "@jupyter-widgets/controls",
          "model_name": "HTMLModel",
          "model_module_version": "1.5.0",
          "state": {
            "_dom_classes": [],
            "_model_module": "@jupyter-widgets/controls",
            "_model_module_version": "1.5.0",
            "_model_name": "HTMLModel",
            "_view_count": null,
            "_view_module": "@jupyter-widgets/controls",
            "_view_module_version": "1.5.0",
            "_view_name": "HTMLView",
            "description": "",
            "description_tooltip": null,
            "layout": "IPY_MODEL_78ca6fa317d74270a5b8085b9c098cfc",
            "placeholder": "​",
            "style": "IPY_MODEL_ba00fcdfce974855b963216b89cdb1dc",
            "value": " 5/5 [05:22&lt;00:00, 69.75s/it]"
          }
        },
        "f74470295f2342048d9f1d0fba8ff4f1": {
          "model_module": "@jupyter-widgets/base",
          "model_name": "LayoutModel",
          "model_module_version": "1.2.0",
          "state": {
            "_model_module": "@jupyter-widgets/base",
            "_model_module_version": "1.2.0",
            "_model_name": "LayoutModel",
            "_view_count": null,
            "_view_module": "@jupyter-widgets/base",
            "_view_module_version": "1.2.0",
            "_view_name": "LayoutView",
            "align_content": null,
            "align_items": null,
            "align_self": null,
            "border": null,
            "bottom": null,
            "display": null,
            "flex": null,
            "flex_flow": null,
            "grid_area": null,
            "grid_auto_columns": null,
            "grid_auto_flow": null,
            "grid_auto_rows": null,
            "grid_column": null,
            "grid_gap": null,
            "grid_row": null,
            "grid_template_areas": null,
            "grid_template_columns": null,
            "grid_template_rows": null,
            "height": null,
            "justify_content": null,
            "justify_items": null,
            "left": null,
            "margin": null,
            "max_height": null,
            "max_width": null,
            "min_height": null,
            "min_width": null,
            "object_fit": null,
            "object_position": null,
            "order": null,
            "overflow": null,
            "overflow_x": null,
            "overflow_y": null,
            "padding": null,
            "right": null,
            "top": null,
            "visibility": null,
            "width": null
          }
        },
        "1770b3cd6dfe474595c187cf17ae1096": {
          "model_module": "@jupyter-widgets/base",
          "model_name": "LayoutModel",
          "model_module_version": "1.2.0",
          "state": {
            "_model_module": "@jupyter-widgets/base",
            "_model_module_version": "1.2.0",
            "_model_name": "LayoutModel",
            "_view_count": null,
            "_view_module": "@jupyter-widgets/base",
            "_view_module_version": "1.2.0",
            "_view_name": "LayoutView",
            "align_content": null,
            "align_items": null,
            "align_self": null,
            "border": null,
            "bottom": null,
            "display": null,
            "flex": null,
            "flex_flow": null,
            "grid_area": null,
            "grid_auto_columns": null,
            "grid_auto_flow": null,
            "grid_auto_rows": null,
            "grid_column": null,
            "grid_gap": null,
            "grid_row": null,
            "grid_template_areas": null,
            "grid_template_columns": null,
            "grid_template_rows": null,
            "height": null,
            "justify_content": null,
            "justify_items": null,
            "left": null,
            "margin": null,
            "max_height": null,
            "max_width": null,
            "min_height": null,
            "min_width": null,
            "object_fit": null,
            "object_position": null,
            "order": null,
            "overflow": null,
            "overflow_x": null,
            "overflow_y": null,
            "padding": null,
            "right": null,
            "top": null,
            "visibility": null,
            "width": null
          }
        },
        "37eef41122e34f9b86a04ddc99e30073": {
          "model_module": "@jupyter-widgets/controls",
          "model_name": "DescriptionStyleModel",
          "model_module_version": "1.5.0",
          "state": {
            "_model_module": "@jupyter-widgets/controls",
            "_model_module_version": "1.5.0",
            "_model_name": "DescriptionStyleModel",
            "_view_count": null,
            "_view_module": "@jupyter-widgets/base",
            "_view_module_version": "1.2.0",
            "_view_name": "StyleView",
            "description_width": ""
          }
        },
        "acb702810717468f9b67da7f2f1537bc": {
          "model_module": "@jupyter-widgets/base",
          "model_name": "LayoutModel",
          "model_module_version": "1.2.0",
          "state": {
            "_model_module": "@jupyter-widgets/base",
            "_model_module_version": "1.2.0",
            "_model_name": "LayoutModel",
            "_view_count": null,
            "_view_module": "@jupyter-widgets/base",
            "_view_module_version": "1.2.0",
            "_view_name": "LayoutView",
            "align_content": null,
            "align_items": null,
            "align_self": null,
            "border": null,
            "bottom": null,
            "display": null,
            "flex": null,
            "flex_flow": null,
            "grid_area": null,
            "grid_auto_columns": null,
            "grid_auto_flow": null,
            "grid_auto_rows": null,
            "grid_column": null,
            "grid_gap": null,
            "grid_row": null,
            "grid_template_areas": null,
            "grid_template_columns": null,
            "grid_template_rows": null,
            "height": null,
            "justify_content": null,
            "justify_items": null,
            "left": null,
            "margin": null,
            "max_height": null,
            "max_width": null,
            "min_height": null,
            "min_width": null,
            "object_fit": null,
            "object_position": null,
            "order": null,
            "overflow": null,
            "overflow_x": null,
            "overflow_y": null,
            "padding": null,
            "right": null,
            "top": null,
            "visibility": null,
            "width": null
          }
        },
        "3d135e84f57249659193c2516a05c287": {
          "model_module": "@jupyter-widgets/controls",
          "model_name": "ProgressStyleModel",
          "model_module_version": "1.5.0",
          "state": {
            "_model_module": "@jupyter-widgets/controls",
            "_model_module_version": "1.5.0",
            "_model_name": "ProgressStyleModel",
            "_view_count": null,
            "_view_module": "@jupyter-widgets/base",
            "_view_module_version": "1.2.0",
            "_view_name": "StyleView",
            "bar_color": null,
            "description_width": ""
          }
        },
        "78ca6fa317d74270a5b8085b9c098cfc": {
          "model_module": "@jupyter-widgets/base",
          "model_name": "LayoutModel",
          "model_module_version": "1.2.0",
          "state": {
            "_model_module": "@jupyter-widgets/base",
            "_model_module_version": "1.2.0",
            "_model_name": "LayoutModel",
            "_view_count": null,
            "_view_module": "@jupyter-widgets/base",
            "_view_module_version": "1.2.0",
            "_view_name": "LayoutView",
            "align_content": null,
            "align_items": null,
            "align_self": null,
            "border": null,
            "bottom": null,
            "display": null,
            "flex": null,
            "flex_flow": null,
            "grid_area": null,
            "grid_auto_columns": null,
            "grid_auto_flow": null,
            "grid_auto_rows": null,
            "grid_column": null,
            "grid_gap": null,
            "grid_row": null,
            "grid_template_areas": null,
            "grid_template_columns": null,
            "grid_template_rows": null,
            "height": null,
            "justify_content": null,
            "justify_items": null,
            "left": null,
            "margin": null,
            "max_height": null,
            "max_width": null,
            "min_height": null,
            "min_width": null,
            "object_fit": null,
            "object_position": null,
            "order": null,
            "overflow": null,
            "overflow_x": null,
            "overflow_y": null,
            "padding": null,
            "right": null,
            "top": null,
            "visibility": null,
            "width": null
          }
        },
        "ba00fcdfce974855b963216b89cdb1dc": {
          "model_module": "@jupyter-widgets/controls",
          "model_name": "DescriptionStyleModel",
          "model_module_version": "1.5.0",
          "state": {
            "_model_module": "@jupyter-widgets/controls",
            "_model_module_version": "1.5.0",
            "_model_name": "DescriptionStyleModel",
            "_view_count": null,
            "_view_module": "@jupyter-widgets/base",
            "_view_module_version": "1.2.0",
            "_view_name": "StyleView",
            "description_width": ""
          }
        },
        "5486cbfcaca74db29558bcb9a9e72085": {
          "model_module": "@jupyter-widgets/controls",
          "model_name": "HBoxModel",
          "model_module_version": "1.5.0",
          "state": {
            "_dom_classes": [],
            "_model_module": "@jupyter-widgets/controls",
            "_model_module_version": "1.5.0",
            "_model_name": "HBoxModel",
            "_view_count": null,
            "_view_module": "@jupyter-widgets/controls",
            "_view_module_version": "1.5.0",
            "_view_name": "HBoxView",
            "box_style": "",
            "children": [
              "IPY_MODEL_43443d076a2d45f5aa2adc558269588c",
              "IPY_MODEL_c3e480a4fd044c3399a2a6a1f167ed8b",
              "IPY_MODEL_47a42a9092aa4caf9de41e22a6bb3bcd"
            ],
            "layout": "IPY_MODEL_d7e8bf2762ae49c0a6125096c8ce452a"
          }
        },
        "43443d076a2d45f5aa2adc558269588c": {
          "model_module": "@jupyter-widgets/controls",
          "model_name": "HTMLModel",
          "model_module_version": "1.5.0",
          "state": {
            "_dom_classes": [],
            "_model_module": "@jupyter-widgets/controls",
            "_model_module_version": "1.5.0",
            "_model_name": "HTMLModel",
            "_view_count": null,
            "_view_module": "@jupyter-widgets/controls",
            "_view_module_version": "1.5.0",
            "_view_name": "HTMLView",
            "description": "",
            "description_tooltip": null,
            "layout": "IPY_MODEL_3a45c7a0af51460f8884165365867d7c",
            "placeholder": "​",
            "style": "IPY_MODEL_b6ed9e690f9b40c58826c65041c31189",
            "value": "100%"
          }
        },
        "c3e480a4fd044c3399a2a6a1f167ed8b": {
          "model_module": "@jupyter-widgets/controls",
          "model_name": "FloatProgressModel",
          "model_module_version": "1.5.0",
          "state": {
            "_dom_classes": [],
            "_model_module": "@jupyter-widgets/controls",
            "_model_module_version": "1.5.0",
            "_model_name": "FloatProgressModel",
            "_view_count": null,
            "_view_module": "@jupyter-widgets/controls",
            "_view_module_version": "1.5.0",
            "_view_name": "ProgressView",
            "bar_style": "success",
            "description": "",
            "description_tooltip": null,
            "layout": "IPY_MODEL_25f463c697624aa0a365b1606722bf70",
            "max": 1000,
            "min": 0,
            "orientation": "horizontal",
            "style": "IPY_MODEL_6d64679286d44c49aa3a97c28a204a6f",
            "value": 1000
          }
        },
        "47a42a9092aa4caf9de41e22a6bb3bcd": {
          "model_module": "@jupyter-widgets/controls",
          "model_name": "HTMLModel",
          "model_module_version": "1.5.0",
          "state": {
            "_dom_classes": [],
            "_model_module": "@jupyter-widgets/controls",
            "_model_module_version": "1.5.0",
            "_model_name": "HTMLModel",
            "_view_count": null,
            "_view_module": "@jupyter-widgets/controls",
            "_view_module_version": "1.5.0",
            "_view_name": "HTMLView",
            "description": "",
            "description_tooltip": null,
            "layout": "IPY_MODEL_208f1a1000924ccfa9553ac7212cfa3f",
            "placeholder": "​",
            "style": "IPY_MODEL_5ff817d7769b4799acefa02c66a373df",
            "value": " 1000/1000 [00:51&lt;00:00, 27.32it/s]"
          }
        },
        "d7e8bf2762ae49c0a6125096c8ce452a": {
          "model_module": "@jupyter-widgets/base",
          "model_name": "LayoutModel",
          "model_module_version": "1.2.0",
          "state": {
            "_model_module": "@jupyter-widgets/base",
            "_model_module_version": "1.2.0",
            "_model_name": "LayoutModel",
            "_view_count": null,
            "_view_module": "@jupyter-widgets/base",
            "_view_module_version": "1.2.0",
            "_view_name": "LayoutView",
            "align_content": null,
            "align_items": null,
            "align_self": null,
            "border": null,
            "bottom": null,
            "display": null,
            "flex": null,
            "flex_flow": null,
            "grid_area": null,
            "grid_auto_columns": null,
            "grid_auto_flow": null,
            "grid_auto_rows": null,
            "grid_column": null,
            "grid_gap": null,
            "grid_row": null,
            "grid_template_areas": null,
            "grid_template_columns": null,
            "grid_template_rows": null,
            "height": null,
            "justify_content": null,
            "justify_items": null,
            "left": null,
            "margin": null,
            "max_height": null,
            "max_width": null,
            "min_height": null,
            "min_width": null,
            "object_fit": null,
            "object_position": null,
            "order": null,
            "overflow": null,
            "overflow_x": null,
            "overflow_y": null,
            "padding": null,
            "right": null,
            "top": null,
            "visibility": null,
            "width": null
          }
        },
        "3a45c7a0af51460f8884165365867d7c": {
          "model_module": "@jupyter-widgets/base",
          "model_name": "LayoutModel",
          "model_module_version": "1.2.0",
          "state": {
            "_model_module": "@jupyter-widgets/base",
            "_model_module_version": "1.2.0",
            "_model_name": "LayoutModel",
            "_view_count": null,
            "_view_module": "@jupyter-widgets/base",
            "_view_module_version": "1.2.0",
            "_view_name": "LayoutView",
            "align_content": null,
            "align_items": null,
            "align_self": null,
            "border": null,
            "bottom": null,
            "display": null,
            "flex": null,
            "flex_flow": null,
            "grid_area": null,
            "grid_auto_columns": null,
            "grid_auto_flow": null,
            "grid_auto_rows": null,
            "grid_column": null,
            "grid_gap": null,
            "grid_row": null,
            "grid_template_areas": null,
            "grid_template_columns": null,
            "grid_template_rows": null,
            "height": null,
            "justify_content": null,
            "justify_items": null,
            "left": null,
            "margin": null,
            "max_height": null,
            "max_width": null,
            "min_height": null,
            "min_width": null,
            "object_fit": null,
            "object_position": null,
            "order": null,
            "overflow": null,
            "overflow_x": null,
            "overflow_y": null,
            "padding": null,
            "right": null,
            "top": null,
            "visibility": null,
            "width": null
          }
        },
        "b6ed9e690f9b40c58826c65041c31189": {
          "model_module": "@jupyter-widgets/controls",
          "model_name": "DescriptionStyleModel",
          "model_module_version": "1.5.0",
          "state": {
            "_model_module": "@jupyter-widgets/controls",
            "_model_module_version": "1.5.0",
            "_model_name": "DescriptionStyleModel",
            "_view_count": null,
            "_view_module": "@jupyter-widgets/base",
            "_view_module_version": "1.2.0",
            "_view_name": "StyleView",
            "description_width": ""
          }
        },
        "25f463c697624aa0a365b1606722bf70": {
          "model_module": "@jupyter-widgets/base",
          "model_name": "LayoutModel",
          "model_module_version": "1.2.0",
          "state": {
            "_model_module": "@jupyter-widgets/base",
            "_model_module_version": "1.2.0",
            "_model_name": "LayoutModel",
            "_view_count": null,
            "_view_module": "@jupyter-widgets/base",
            "_view_module_version": "1.2.0",
            "_view_name": "LayoutView",
            "align_content": null,
            "align_items": null,
            "align_self": null,
            "border": null,
            "bottom": null,
            "display": null,
            "flex": null,
            "flex_flow": null,
            "grid_area": null,
            "grid_auto_columns": null,
            "grid_auto_flow": null,
            "grid_auto_rows": null,
            "grid_column": null,
            "grid_gap": null,
            "grid_row": null,
            "grid_template_areas": null,
            "grid_template_columns": null,
            "grid_template_rows": null,
            "height": null,
            "justify_content": null,
            "justify_items": null,
            "left": null,
            "margin": null,
            "max_height": null,
            "max_width": null,
            "min_height": null,
            "min_width": null,
            "object_fit": null,
            "object_position": null,
            "order": null,
            "overflow": null,
            "overflow_x": null,
            "overflow_y": null,
            "padding": null,
            "right": null,
            "top": null,
            "visibility": null,
            "width": null
          }
        },
        "6d64679286d44c49aa3a97c28a204a6f": {
          "model_module": "@jupyter-widgets/controls",
          "model_name": "ProgressStyleModel",
          "model_module_version": "1.5.0",
          "state": {
            "_model_module": "@jupyter-widgets/controls",
            "_model_module_version": "1.5.0",
            "_model_name": "ProgressStyleModel",
            "_view_count": null,
            "_view_module": "@jupyter-widgets/base",
            "_view_module_version": "1.2.0",
            "_view_name": "StyleView",
            "bar_color": null,
            "description_width": ""
          }
        },
        "208f1a1000924ccfa9553ac7212cfa3f": {
          "model_module": "@jupyter-widgets/base",
          "model_name": "LayoutModel",
          "model_module_version": "1.2.0",
          "state": {
            "_model_module": "@jupyter-widgets/base",
            "_model_module_version": "1.2.0",
            "_model_name": "LayoutModel",
            "_view_count": null,
            "_view_module": "@jupyter-widgets/base",
            "_view_module_version": "1.2.0",
            "_view_name": "LayoutView",
            "align_content": null,
            "align_items": null,
            "align_self": null,
            "border": null,
            "bottom": null,
            "display": null,
            "flex": null,
            "flex_flow": null,
            "grid_area": null,
            "grid_auto_columns": null,
            "grid_auto_flow": null,
            "grid_auto_rows": null,
            "grid_column": null,
            "grid_gap": null,
            "grid_row": null,
            "grid_template_areas": null,
            "grid_template_columns": null,
            "grid_template_rows": null,
            "height": null,
            "justify_content": null,
            "justify_items": null,
            "left": null,
            "margin": null,
            "max_height": null,
            "max_width": null,
            "min_height": null,
            "min_width": null,
            "object_fit": null,
            "object_position": null,
            "order": null,
            "overflow": null,
            "overflow_x": null,
            "overflow_y": null,
            "padding": null,
            "right": null,
            "top": null,
            "visibility": null,
            "width": null
          }
        },
        "5ff817d7769b4799acefa02c66a373df": {
          "model_module": "@jupyter-widgets/controls",
          "model_name": "DescriptionStyleModel",
          "model_module_version": "1.5.0",
          "state": {
            "_model_module": "@jupyter-widgets/controls",
            "_model_module_version": "1.5.0",
            "_model_name": "DescriptionStyleModel",
            "_view_count": null,
            "_view_module": "@jupyter-widgets/base",
            "_view_module_version": "1.2.0",
            "_view_name": "StyleView",
            "description_width": ""
          }
        },
        "be047455cf054f10a232b752967ae03c": {
          "model_module": "@jupyter-widgets/controls",
          "model_name": "HBoxModel",
          "model_module_version": "1.5.0",
          "state": {
            "_dom_classes": [],
            "_model_module": "@jupyter-widgets/controls",
            "_model_module_version": "1.5.0",
            "_model_name": "HBoxModel",
            "_view_count": null,
            "_view_module": "@jupyter-widgets/controls",
            "_view_module_version": "1.5.0",
            "_view_name": "HBoxView",
            "box_style": "",
            "children": [
              "IPY_MODEL_f9c8005ce7ee4b4ab03dba0cccd839c3",
              "IPY_MODEL_5c08a70dd52548ff8f89e3f9fe102569",
              "IPY_MODEL_93b8099945b7430eaef804611e2c5a37"
            ],
            "layout": "IPY_MODEL_e7fd9f451a8b4e3fa4882296ff07d2fe"
          }
        },
        "f9c8005ce7ee4b4ab03dba0cccd839c3": {
          "model_module": "@jupyter-widgets/controls",
          "model_name": "HTMLModel",
          "model_module_version": "1.5.0",
          "state": {
            "_dom_classes": [],
            "_model_module": "@jupyter-widgets/controls",
            "_model_module_version": "1.5.0",
            "_model_name": "HTMLModel",
            "_view_count": null,
            "_view_module": "@jupyter-widgets/controls",
            "_view_module_version": "1.5.0",
            "_view_name": "HTMLView",
            "description": "",
            "description_tooltip": null,
            "layout": "IPY_MODEL_1561ff32f2514900b2151a8c1e496f35",
            "placeholder": "​",
            "style": "IPY_MODEL_ed7d42350239490b952d8891d33ce1b0",
            "value": "100%"
          }
        },
        "5c08a70dd52548ff8f89e3f9fe102569": {
          "model_module": "@jupyter-widgets/controls",
          "model_name": "FloatProgressModel",
          "model_module_version": "1.5.0",
          "state": {
            "_dom_classes": [],
            "_model_module": "@jupyter-widgets/controls",
            "_model_module_version": "1.5.0",
            "_model_name": "FloatProgressModel",
            "_view_count": null,
            "_view_module": "@jupyter-widgets/controls",
            "_view_module_version": "1.5.0",
            "_view_name": "ProgressView",
            "bar_style": "success",
            "description": "",
            "description_tooltip": null,
            "layout": "IPY_MODEL_8653c2e5b85340a0ad7783ffa1572082",
            "max": 1000,
            "min": 0,
            "orientation": "horizontal",
            "style": "IPY_MODEL_644c0464529b40c183d31a137b22fad0",
            "value": 1000
          }
        },
        "93b8099945b7430eaef804611e2c5a37": {
          "model_module": "@jupyter-widgets/controls",
          "model_name": "HTMLModel",
          "model_module_version": "1.5.0",
          "state": {
            "_dom_classes": [],
            "_model_module": "@jupyter-widgets/controls",
            "_model_module_version": "1.5.0",
            "_model_name": "HTMLModel",
            "_view_count": null,
            "_view_module": "@jupyter-widgets/controls",
            "_view_module_version": "1.5.0",
            "_view_name": "HTMLView",
            "description": "",
            "description_tooltip": null,
            "layout": "IPY_MODEL_3cf63f8c84fa4dcdb708726074e929f9",
            "placeholder": "​",
            "style": "IPY_MODEL_2f942b200ffa4166abd7367bd9faf63a",
            "value": " 1000/1000 [00:45&lt;00:00, 25.30it/s]"
          }
        },
        "e7fd9f451a8b4e3fa4882296ff07d2fe": {
          "model_module": "@jupyter-widgets/base",
          "model_name": "LayoutModel",
          "model_module_version": "1.2.0",
          "state": {
            "_model_module": "@jupyter-widgets/base",
            "_model_module_version": "1.2.0",
            "_model_name": "LayoutModel",
            "_view_count": null,
            "_view_module": "@jupyter-widgets/base",
            "_view_module_version": "1.2.0",
            "_view_name": "LayoutView",
            "align_content": null,
            "align_items": null,
            "align_self": null,
            "border": null,
            "bottom": null,
            "display": null,
            "flex": null,
            "flex_flow": null,
            "grid_area": null,
            "grid_auto_columns": null,
            "grid_auto_flow": null,
            "grid_auto_rows": null,
            "grid_column": null,
            "grid_gap": null,
            "grid_row": null,
            "grid_template_areas": null,
            "grid_template_columns": null,
            "grid_template_rows": null,
            "height": null,
            "justify_content": null,
            "justify_items": null,
            "left": null,
            "margin": null,
            "max_height": null,
            "max_width": null,
            "min_height": null,
            "min_width": null,
            "object_fit": null,
            "object_position": null,
            "order": null,
            "overflow": null,
            "overflow_x": null,
            "overflow_y": null,
            "padding": null,
            "right": null,
            "top": null,
            "visibility": null,
            "width": null
          }
        },
        "1561ff32f2514900b2151a8c1e496f35": {
          "model_module": "@jupyter-widgets/base",
          "model_name": "LayoutModel",
          "model_module_version": "1.2.0",
          "state": {
            "_model_module": "@jupyter-widgets/base",
            "_model_module_version": "1.2.0",
            "_model_name": "LayoutModel",
            "_view_count": null,
            "_view_module": "@jupyter-widgets/base",
            "_view_module_version": "1.2.0",
            "_view_name": "LayoutView",
            "align_content": null,
            "align_items": null,
            "align_self": null,
            "border": null,
            "bottom": null,
            "display": null,
            "flex": null,
            "flex_flow": null,
            "grid_area": null,
            "grid_auto_columns": null,
            "grid_auto_flow": null,
            "grid_auto_rows": null,
            "grid_column": null,
            "grid_gap": null,
            "grid_row": null,
            "grid_template_areas": null,
            "grid_template_columns": null,
            "grid_template_rows": null,
            "height": null,
            "justify_content": null,
            "justify_items": null,
            "left": null,
            "margin": null,
            "max_height": null,
            "max_width": null,
            "min_height": null,
            "min_width": null,
            "object_fit": null,
            "object_position": null,
            "order": null,
            "overflow": null,
            "overflow_x": null,
            "overflow_y": null,
            "padding": null,
            "right": null,
            "top": null,
            "visibility": null,
            "width": null
          }
        },
        "ed7d42350239490b952d8891d33ce1b0": {
          "model_module": "@jupyter-widgets/controls",
          "model_name": "DescriptionStyleModel",
          "model_module_version": "1.5.0",
          "state": {
            "_model_module": "@jupyter-widgets/controls",
            "_model_module_version": "1.5.0",
            "_model_name": "DescriptionStyleModel",
            "_view_count": null,
            "_view_module": "@jupyter-widgets/base",
            "_view_module_version": "1.2.0",
            "_view_name": "StyleView",
            "description_width": ""
          }
        },
        "8653c2e5b85340a0ad7783ffa1572082": {
          "model_module": "@jupyter-widgets/base",
          "model_name": "LayoutModel",
          "model_module_version": "1.2.0",
          "state": {
            "_model_module": "@jupyter-widgets/base",
            "_model_module_version": "1.2.0",
            "_model_name": "LayoutModel",
            "_view_count": null,
            "_view_module": "@jupyter-widgets/base",
            "_view_module_version": "1.2.0",
            "_view_name": "LayoutView",
            "align_content": null,
            "align_items": null,
            "align_self": null,
            "border": null,
            "bottom": null,
            "display": null,
            "flex": null,
            "flex_flow": null,
            "grid_area": null,
            "grid_auto_columns": null,
            "grid_auto_flow": null,
            "grid_auto_rows": null,
            "grid_column": null,
            "grid_gap": null,
            "grid_row": null,
            "grid_template_areas": null,
            "grid_template_columns": null,
            "grid_template_rows": null,
            "height": null,
            "justify_content": null,
            "justify_items": null,
            "left": null,
            "margin": null,
            "max_height": null,
            "max_width": null,
            "min_height": null,
            "min_width": null,
            "object_fit": null,
            "object_position": null,
            "order": null,
            "overflow": null,
            "overflow_x": null,
            "overflow_y": null,
            "padding": null,
            "right": null,
            "top": null,
            "visibility": null,
            "width": null
          }
        },
        "644c0464529b40c183d31a137b22fad0": {
          "model_module": "@jupyter-widgets/controls",
          "model_name": "ProgressStyleModel",
          "model_module_version": "1.5.0",
          "state": {
            "_model_module": "@jupyter-widgets/controls",
            "_model_module_version": "1.5.0",
            "_model_name": "ProgressStyleModel",
            "_view_count": null,
            "_view_module": "@jupyter-widgets/base",
            "_view_module_version": "1.2.0",
            "_view_name": "StyleView",
            "bar_color": null,
            "description_width": ""
          }
        },
        "3cf63f8c84fa4dcdb708726074e929f9": {
          "model_module": "@jupyter-widgets/base",
          "model_name": "LayoutModel",
          "model_module_version": "1.2.0",
          "state": {
            "_model_module": "@jupyter-widgets/base",
            "_model_module_version": "1.2.0",
            "_model_name": "LayoutModel",
            "_view_count": null,
            "_view_module": "@jupyter-widgets/base",
            "_view_module_version": "1.2.0",
            "_view_name": "LayoutView",
            "align_content": null,
            "align_items": null,
            "align_self": null,
            "border": null,
            "bottom": null,
            "display": null,
            "flex": null,
            "flex_flow": null,
            "grid_area": null,
            "grid_auto_columns": null,
            "grid_auto_flow": null,
            "grid_auto_rows": null,
            "grid_column": null,
            "grid_gap": null,
            "grid_row": null,
            "grid_template_areas": null,
            "grid_template_columns": null,
            "grid_template_rows": null,
            "height": null,
            "justify_content": null,
            "justify_items": null,
            "left": null,
            "margin": null,
            "max_height": null,
            "max_width": null,
            "min_height": null,
            "min_width": null,
            "object_fit": null,
            "object_position": null,
            "order": null,
            "overflow": null,
            "overflow_x": null,
            "overflow_y": null,
            "padding": null,
            "right": null,
            "top": null,
            "visibility": null,
            "width": null
          }
        },
        "2f942b200ffa4166abd7367bd9faf63a": {
          "model_module": "@jupyter-widgets/controls",
          "model_name": "DescriptionStyleModel",
          "model_module_version": "1.5.0",
          "state": {
            "_model_module": "@jupyter-widgets/controls",
            "_model_module_version": "1.5.0",
            "_model_name": "DescriptionStyleModel",
            "_view_count": null,
            "_view_module": "@jupyter-widgets/base",
            "_view_module_version": "1.2.0",
            "_view_name": "StyleView",
            "description_width": ""
          }
        },
        "d5c1d0735341442aaa5bb028eec3e386": {
          "model_module": "@jupyter-widgets/controls",
          "model_name": "HBoxModel",
          "model_module_version": "1.5.0",
          "state": {
            "_dom_classes": [],
            "_model_module": "@jupyter-widgets/controls",
            "_model_module_version": "1.5.0",
            "_model_name": "HBoxModel",
            "_view_count": null,
            "_view_module": "@jupyter-widgets/controls",
            "_view_module_version": "1.5.0",
            "_view_name": "HBoxView",
            "box_style": "",
            "children": [
              "IPY_MODEL_7a91d9cc9f7c46aba8d8992578ce2692",
              "IPY_MODEL_b4507bfe8cca4197becba55de5ffa4c6",
              "IPY_MODEL_8eda83af4d0348ecb8453b1a45f4af93"
            ],
            "layout": "IPY_MODEL_32f2a684b9b84704a0384e1b6fd212ad"
          }
        },
        "7a91d9cc9f7c46aba8d8992578ce2692": {
          "model_module": "@jupyter-widgets/controls",
          "model_name": "HTMLModel",
          "model_module_version": "1.5.0",
          "state": {
            "_dom_classes": [],
            "_model_module": "@jupyter-widgets/controls",
            "_model_module_version": "1.5.0",
            "_model_name": "HTMLModel",
            "_view_count": null,
            "_view_module": "@jupyter-widgets/controls",
            "_view_module_version": "1.5.0",
            "_view_name": "HTMLView",
            "description": "",
            "description_tooltip": null,
            "layout": "IPY_MODEL_94a0a5f11b034315a9864ec546542072",
            "placeholder": "​",
            "style": "IPY_MODEL_e0d9b79f51c042cc8d6f47ba49be19c4",
            "value": "100%"
          }
        },
        "b4507bfe8cca4197becba55de5ffa4c6": {
          "model_module": "@jupyter-widgets/controls",
          "model_name": "FloatProgressModel",
          "model_module_version": "1.5.0",
          "state": {
            "_dom_classes": [],
            "_model_module": "@jupyter-widgets/controls",
            "_model_module_version": "1.5.0",
            "_model_name": "FloatProgressModel",
            "_view_count": null,
            "_view_module": "@jupyter-widgets/controls",
            "_view_module_version": "1.5.0",
            "_view_name": "ProgressView",
            "bar_style": "success",
            "description": "",
            "description_tooltip": null,
            "layout": "IPY_MODEL_a345680fc3354370af1d018c63fdd0b0",
            "max": 1000,
            "min": 0,
            "orientation": "horizontal",
            "style": "IPY_MODEL_4c2cebd7b3004da692d7ab987c2fe452",
            "value": 1000
          }
        },
        "8eda83af4d0348ecb8453b1a45f4af93": {
          "model_module": "@jupyter-widgets/controls",
          "model_name": "HTMLModel",
          "model_module_version": "1.5.0",
          "state": {
            "_dom_classes": [],
            "_model_module": "@jupyter-widgets/controls",
            "_model_module_version": "1.5.0",
            "_model_name": "HTMLModel",
            "_view_count": null,
            "_view_module": "@jupyter-widgets/controls",
            "_view_module_version": "1.5.0",
            "_view_name": "HTMLView",
            "description": "",
            "description_tooltip": null,
            "layout": "IPY_MODEL_ffc07ca48f0a4a1ea4acf74b40d655f1",
            "placeholder": "​",
            "style": "IPY_MODEL_6af62364deb84d8da8da1c9998edf88b",
            "value": " 1000/1000 [01:02&lt;00:00, 18.94it/s]"
          }
        },
        "32f2a684b9b84704a0384e1b6fd212ad": {
          "model_module": "@jupyter-widgets/base",
          "model_name": "LayoutModel",
          "model_module_version": "1.2.0",
          "state": {
            "_model_module": "@jupyter-widgets/base",
            "_model_module_version": "1.2.0",
            "_model_name": "LayoutModel",
            "_view_count": null,
            "_view_module": "@jupyter-widgets/base",
            "_view_module_version": "1.2.0",
            "_view_name": "LayoutView",
            "align_content": null,
            "align_items": null,
            "align_self": null,
            "border": null,
            "bottom": null,
            "display": null,
            "flex": null,
            "flex_flow": null,
            "grid_area": null,
            "grid_auto_columns": null,
            "grid_auto_flow": null,
            "grid_auto_rows": null,
            "grid_column": null,
            "grid_gap": null,
            "grid_row": null,
            "grid_template_areas": null,
            "grid_template_columns": null,
            "grid_template_rows": null,
            "height": null,
            "justify_content": null,
            "justify_items": null,
            "left": null,
            "margin": null,
            "max_height": null,
            "max_width": null,
            "min_height": null,
            "min_width": null,
            "object_fit": null,
            "object_position": null,
            "order": null,
            "overflow": null,
            "overflow_x": null,
            "overflow_y": null,
            "padding": null,
            "right": null,
            "top": null,
            "visibility": null,
            "width": null
          }
        },
        "94a0a5f11b034315a9864ec546542072": {
          "model_module": "@jupyter-widgets/base",
          "model_name": "LayoutModel",
          "model_module_version": "1.2.0",
          "state": {
            "_model_module": "@jupyter-widgets/base",
            "_model_module_version": "1.2.0",
            "_model_name": "LayoutModel",
            "_view_count": null,
            "_view_module": "@jupyter-widgets/base",
            "_view_module_version": "1.2.0",
            "_view_name": "LayoutView",
            "align_content": null,
            "align_items": null,
            "align_self": null,
            "border": null,
            "bottom": null,
            "display": null,
            "flex": null,
            "flex_flow": null,
            "grid_area": null,
            "grid_auto_columns": null,
            "grid_auto_flow": null,
            "grid_auto_rows": null,
            "grid_column": null,
            "grid_gap": null,
            "grid_row": null,
            "grid_template_areas": null,
            "grid_template_columns": null,
            "grid_template_rows": null,
            "height": null,
            "justify_content": null,
            "justify_items": null,
            "left": null,
            "margin": null,
            "max_height": null,
            "max_width": null,
            "min_height": null,
            "min_width": null,
            "object_fit": null,
            "object_position": null,
            "order": null,
            "overflow": null,
            "overflow_x": null,
            "overflow_y": null,
            "padding": null,
            "right": null,
            "top": null,
            "visibility": null,
            "width": null
          }
        },
        "e0d9b79f51c042cc8d6f47ba49be19c4": {
          "model_module": "@jupyter-widgets/controls",
          "model_name": "DescriptionStyleModel",
          "model_module_version": "1.5.0",
          "state": {
            "_model_module": "@jupyter-widgets/controls",
            "_model_module_version": "1.5.0",
            "_model_name": "DescriptionStyleModel",
            "_view_count": null,
            "_view_module": "@jupyter-widgets/base",
            "_view_module_version": "1.2.0",
            "_view_name": "StyleView",
            "description_width": ""
          }
        },
        "a345680fc3354370af1d018c63fdd0b0": {
          "model_module": "@jupyter-widgets/base",
          "model_name": "LayoutModel",
          "model_module_version": "1.2.0",
          "state": {
            "_model_module": "@jupyter-widgets/base",
            "_model_module_version": "1.2.0",
            "_model_name": "LayoutModel",
            "_view_count": null,
            "_view_module": "@jupyter-widgets/base",
            "_view_module_version": "1.2.0",
            "_view_name": "LayoutView",
            "align_content": null,
            "align_items": null,
            "align_self": null,
            "border": null,
            "bottom": null,
            "display": null,
            "flex": null,
            "flex_flow": null,
            "grid_area": null,
            "grid_auto_columns": null,
            "grid_auto_flow": null,
            "grid_auto_rows": null,
            "grid_column": null,
            "grid_gap": null,
            "grid_row": null,
            "grid_template_areas": null,
            "grid_template_columns": null,
            "grid_template_rows": null,
            "height": null,
            "justify_content": null,
            "justify_items": null,
            "left": null,
            "margin": null,
            "max_height": null,
            "max_width": null,
            "min_height": null,
            "min_width": null,
            "object_fit": null,
            "object_position": null,
            "order": null,
            "overflow": null,
            "overflow_x": null,
            "overflow_y": null,
            "padding": null,
            "right": null,
            "top": null,
            "visibility": null,
            "width": null
          }
        },
        "4c2cebd7b3004da692d7ab987c2fe452": {
          "model_module": "@jupyter-widgets/controls",
          "model_name": "ProgressStyleModel",
          "model_module_version": "1.5.0",
          "state": {
            "_model_module": "@jupyter-widgets/controls",
            "_model_module_version": "1.5.0",
            "_model_name": "ProgressStyleModel",
            "_view_count": null,
            "_view_module": "@jupyter-widgets/base",
            "_view_module_version": "1.2.0",
            "_view_name": "StyleView",
            "bar_color": null,
            "description_width": ""
          }
        },
        "ffc07ca48f0a4a1ea4acf74b40d655f1": {
          "model_module": "@jupyter-widgets/base",
          "model_name": "LayoutModel",
          "model_module_version": "1.2.0",
          "state": {
            "_model_module": "@jupyter-widgets/base",
            "_model_module_version": "1.2.0",
            "_model_name": "LayoutModel",
            "_view_count": null,
            "_view_module": "@jupyter-widgets/base",
            "_view_module_version": "1.2.0",
            "_view_name": "LayoutView",
            "align_content": null,
            "align_items": null,
            "align_self": null,
            "border": null,
            "bottom": null,
            "display": null,
            "flex": null,
            "flex_flow": null,
            "grid_area": null,
            "grid_auto_columns": null,
            "grid_auto_flow": null,
            "grid_auto_rows": null,
            "grid_column": null,
            "grid_gap": null,
            "grid_row": null,
            "grid_template_areas": null,
            "grid_template_columns": null,
            "grid_template_rows": null,
            "height": null,
            "justify_content": null,
            "justify_items": null,
            "left": null,
            "margin": null,
            "max_height": null,
            "max_width": null,
            "min_height": null,
            "min_width": null,
            "object_fit": null,
            "object_position": null,
            "order": null,
            "overflow": null,
            "overflow_x": null,
            "overflow_y": null,
            "padding": null,
            "right": null,
            "top": null,
            "visibility": null,
            "width": null
          }
        },
        "6af62364deb84d8da8da1c9998edf88b": {
          "model_module": "@jupyter-widgets/controls",
          "model_name": "DescriptionStyleModel",
          "model_module_version": "1.5.0",
          "state": {
            "_model_module": "@jupyter-widgets/controls",
            "_model_module_version": "1.5.0",
            "_model_name": "DescriptionStyleModel",
            "_view_count": null,
            "_view_module": "@jupyter-widgets/base",
            "_view_module_version": "1.2.0",
            "_view_name": "StyleView",
            "description_width": ""
          }
        },
        "5a7c597fe9b54e11a17ff638f8036c23": {
          "model_module": "@jupyter-widgets/controls",
          "model_name": "HBoxModel",
          "model_module_version": "1.5.0",
          "state": {
            "_dom_classes": [],
            "_model_module": "@jupyter-widgets/controls",
            "_model_module_version": "1.5.0",
            "_model_name": "HBoxModel",
            "_view_count": null,
            "_view_module": "@jupyter-widgets/controls",
            "_view_module_version": "1.5.0",
            "_view_name": "HBoxView",
            "box_style": "",
            "children": [
              "IPY_MODEL_452380e456d646e7b5faa19bbeb664b1",
              "IPY_MODEL_0646720a5e03420794b8a55642cb3622",
              "IPY_MODEL_e205bbe6023e4b069c86d72a513f6c13"
            ],
            "layout": "IPY_MODEL_c413f9bcd6b44e26947414748f56f8f9"
          }
        },
        "452380e456d646e7b5faa19bbeb664b1": {
          "model_module": "@jupyter-widgets/controls",
          "model_name": "HTMLModel",
          "model_module_version": "1.5.0",
          "state": {
            "_dom_classes": [],
            "_model_module": "@jupyter-widgets/controls",
            "_model_module_version": "1.5.0",
            "_model_name": "HTMLModel",
            "_view_count": null,
            "_view_module": "@jupyter-widgets/controls",
            "_view_module_version": "1.5.0",
            "_view_name": "HTMLView",
            "description": "",
            "description_tooltip": null,
            "layout": "IPY_MODEL_2cb22a672ee24c99966fc4c7028d44a9",
            "placeholder": "​",
            "style": "IPY_MODEL_0746414510a747b8a419fa10c96c7add",
            "value": "100%"
          }
        },
        "0646720a5e03420794b8a55642cb3622": {
          "model_module": "@jupyter-widgets/controls",
          "model_name": "FloatProgressModel",
          "model_module_version": "1.5.0",
          "state": {
            "_dom_classes": [],
            "_model_module": "@jupyter-widgets/controls",
            "_model_module_version": "1.5.0",
            "_model_name": "FloatProgressModel",
            "_view_count": null,
            "_view_module": "@jupyter-widgets/controls",
            "_view_module_version": "1.5.0",
            "_view_name": "ProgressView",
            "bar_style": "success",
            "description": "",
            "description_tooltip": null,
            "layout": "IPY_MODEL_a43419abdb6a44cc8785800a797fc53d",
            "max": 1000,
            "min": 0,
            "orientation": "horizontal",
            "style": "IPY_MODEL_aad6431d97ba4870be46f271150da9d9",
            "value": 1000
          }
        },
        "e205bbe6023e4b069c86d72a513f6c13": {
          "model_module": "@jupyter-widgets/controls",
          "model_name": "HTMLModel",
          "model_module_version": "1.5.0",
          "state": {
            "_dom_classes": [],
            "_model_module": "@jupyter-widgets/controls",
            "_model_module_version": "1.5.0",
            "_model_name": "HTMLModel",
            "_view_count": null,
            "_view_module": "@jupyter-widgets/controls",
            "_view_module_version": "1.5.0",
            "_view_name": "HTMLView",
            "description": "",
            "description_tooltip": null,
            "layout": "IPY_MODEL_1f762ccaed234247a41807432670e749",
            "placeholder": "​",
            "style": "IPY_MODEL_8726077639e446d9a76a653a8219f2ca",
            "value": " 1000/1000 [01:26&lt;00:00, 12.85it/s]"
          }
        },
        "c413f9bcd6b44e26947414748f56f8f9": {
          "model_module": "@jupyter-widgets/base",
          "model_name": "LayoutModel",
          "model_module_version": "1.2.0",
          "state": {
            "_model_module": "@jupyter-widgets/base",
            "_model_module_version": "1.2.0",
            "_model_name": "LayoutModel",
            "_view_count": null,
            "_view_module": "@jupyter-widgets/base",
            "_view_module_version": "1.2.0",
            "_view_name": "LayoutView",
            "align_content": null,
            "align_items": null,
            "align_self": null,
            "border": null,
            "bottom": null,
            "display": null,
            "flex": null,
            "flex_flow": null,
            "grid_area": null,
            "grid_auto_columns": null,
            "grid_auto_flow": null,
            "grid_auto_rows": null,
            "grid_column": null,
            "grid_gap": null,
            "grid_row": null,
            "grid_template_areas": null,
            "grid_template_columns": null,
            "grid_template_rows": null,
            "height": null,
            "justify_content": null,
            "justify_items": null,
            "left": null,
            "margin": null,
            "max_height": null,
            "max_width": null,
            "min_height": null,
            "min_width": null,
            "object_fit": null,
            "object_position": null,
            "order": null,
            "overflow": null,
            "overflow_x": null,
            "overflow_y": null,
            "padding": null,
            "right": null,
            "top": null,
            "visibility": null,
            "width": null
          }
        },
        "2cb22a672ee24c99966fc4c7028d44a9": {
          "model_module": "@jupyter-widgets/base",
          "model_name": "LayoutModel",
          "model_module_version": "1.2.0",
          "state": {
            "_model_module": "@jupyter-widgets/base",
            "_model_module_version": "1.2.0",
            "_model_name": "LayoutModel",
            "_view_count": null,
            "_view_module": "@jupyter-widgets/base",
            "_view_module_version": "1.2.0",
            "_view_name": "LayoutView",
            "align_content": null,
            "align_items": null,
            "align_self": null,
            "border": null,
            "bottom": null,
            "display": null,
            "flex": null,
            "flex_flow": null,
            "grid_area": null,
            "grid_auto_columns": null,
            "grid_auto_flow": null,
            "grid_auto_rows": null,
            "grid_column": null,
            "grid_gap": null,
            "grid_row": null,
            "grid_template_areas": null,
            "grid_template_columns": null,
            "grid_template_rows": null,
            "height": null,
            "justify_content": null,
            "justify_items": null,
            "left": null,
            "margin": null,
            "max_height": null,
            "max_width": null,
            "min_height": null,
            "min_width": null,
            "object_fit": null,
            "object_position": null,
            "order": null,
            "overflow": null,
            "overflow_x": null,
            "overflow_y": null,
            "padding": null,
            "right": null,
            "top": null,
            "visibility": null,
            "width": null
          }
        },
        "0746414510a747b8a419fa10c96c7add": {
          "model_module": "@jupyter-widgets/controls",
          "model_name": "DescriptionStyleModel",
          "model_module_version": "1.5.0",
          "state": {
            "_model_module": "@jupyter-widgets/controls",
            "_model_module_version": "1.5.0",
            "_model_name": "DescriptionStyleModel",
            "_view_count": null,
            "_view_module": "@jupyter-widgets/base",
            "_view_module_version": "1.2.0",
            "_view_name": "StyleView",
            "description_width": ""
          }
        },
        "a43419abdb6a44cc8785800a797fc53d": {
          "model_module": "@jupyter-widgets/base",
          "model_name": "LayoutModel",
          "model_module_version": "1.2.0",
          "state": {
            "_model_module": "@jupyter-widgets/base",
            "_model_module_version": "1.2.0",
            "_model_name": "LayoutModel",
            "_view_count": null,
            "_view_module": "@jupyter-widgets/base",
            "_view_module_version": "1.2.0",
            "_view_name": "LayoutView",
            "align_content": null,
            "align_items": null,
            "align_self": null,
            "border": null,
            "bottom": null,
            "display": null,
            "flex": null,
            "flex_flow": null,
            "grid_area": null,
            "grid_auto_columns": null,
            "grid_auto_flow": null,
            "grid_auto_rows": null,
            "grid_column": null,
            "grid_gap": null,
            "grid_row": null,
            "grid_template_areas": null,
            "grid_template_columns": null,
            "grid_template_rows": null,
            "height": null,
            "justify_content": null,
            "justify_items": null,
            "left": null,
            "margin": null,
            "max_height": null,
            "max_width": null,
            "min_height": null,
            "min_width": null,
            "object_fit": null,
            "object_position": null,
            "order": null,
            "overflow": null,
            "overflow_x": null,
            "overflow_y": null,
            "padding": null,
            "right": null,
            "top": null,
            "visibility": null,
            "width": null
          }
        },
        "aad6431d97ba4870be46f271150da9d9": {
          "model_module": "@jupyter-widgets/controls",
          "model_name": "ProgressStyleModel",
          "model_module_version": "1.5.0",
          "state": {
            "_model_module": "@jupyter-widgets/controls",
            "_model_module_version": "1.5.0",
            "_model_name": "ProgressStyleModel",
            "_view_count": null,
            "_view_module": "@jupyter-widgets/base",
            "_view_module_version": "1.2.0",
            "_view_name": "StyleView",
            "bar_color": null,
            "description_width": ""
          }
        },
        "1f762ccaed234247a41807432670e749": {
          "model_module": "@jupyter-widgets/base",
          "model_name": "LayoutModel",
          "model_module_version": "1.2.0",
          "state": {
            "_model_module": "@jupyter-widgets/base",
            "_model_module_version": "1.2.0",
            "_model_name": "LayoutModel",
            "_view_count": null,
            "_view_module": "@jupyter-widgets/base",
            "_view_module_version": "1.2.0",
            "_view_name": "LayoutView",
            "align_content": null,
            "align_items": null,
            "align_self": null,
            "border": null,
            "bottom": null,
            "display": null,
            "flex": null,
            "flex_flow": null,
            "grid_area": null,
            "grid_auto_columns": null,
            "grid_auto_flow": null,
            "grid_auto_rows": null,
            "grid_column": null,
            "grid_gap": null,
            "grid_row": null,
            "grid_template_areas": null,
            "grid_template_columns": null,
            "grid_template_rows": null,
            "height": null,
            "justify_content": null,
            "justify_items": null,
            "left": null,
            "margin": null,
            "max_height": null,
            "max_width": null,
            "min_height": null,
            "min_width": null,
            "object_fit": null,
            "object_position": null,
            "order": null,
            "overflow": null,
            "overflow_x": null,
            "overflow_y": null,
            "padding": null,
            "right": null,
            "top": null,
            "visibility": null,
            "width": null
          }
        },
        "8726077639e446d9a76a653a8219f2ca": {
          "model_module": "@jupyter-widgets/controls",
          "model_name": "DescriptionStyleModel",
          "model_module_version": "1.5.0",
          "state": {
            "_model_module": "@jupyter-widgets/controls",
            "_model_module_version": "1.5.0",
            "_model_name": "DescriptionStyleModel",
            "_view_count": null,
            "_view_module": "@jupyter-widgets/base",
            "_view_module_version": "1.2.0",
            "_view_name": "StyleView",
            "description_width": ""
          }
        },
        "863fea834c2e45619138aa141b6d0200": {
          "model_module": "@jupyter-widgets/controls",
          "model_name": "HBoxModel",
          "model_module_version": "1.5.0",
          "state": {
            "_dom_classes": [],
            "_model_module": "@jupyter-widgets/controls",
            "_model_module_version": "1.5.0",
            "_model_name": "HBoxModel",
            "_view_count": null,
            "_view_module": "@jupyter-widgets/controls",
            "_view_module_version": "1.5.0",
            "_view_name": "HBoxView",
            "box_style": "",
            "children": [
              "IPY_MODEL_afc5c0be36fe4e7790c3a81d67a4b79d",
              "IPY_MODEL_70c7178b62a942e8ac04dadb71a0fa4e",
              "IPY_MODEL_025e68e1cb8a4d85bb3c30e1b775db92"
            ],
            "layout": "IPY_MODEL_777e02029ada4cc7877495aa54771713"
          }
        },
        "afc5c0be36fe4e7790c3a81d67a4b79d": {
          "model_module": "@jupyter-widgets/controls",
          "model_name": "HTMLModel",
          "model_module_version": "1.5.0",
          "state": {
            "_dom_classes": [],
            "_model_module": "@jupyter-widgets/controls",
            "_model_module_version": "1.5.0",
            "_model_name": "HTMLModel",
            "_view_count": null,
            "_view_module": "@jupyter-widgets/controls",
            "_view_module_version": "1.5.0",
            "_view_name": "HTMLView",
            "description": "",
            "description_tooltip": null,
            "layout": "IPY_MODEL_32bf85c744724fa78ed3e8a709b2aaa2",
            "placeholder": "​",
            "style": "IPY_MODEL_5c585e9c72f94b239f63e6924ee2fa17",
            "value": "100%"
          }
        },
        "70c7178b62a942e8ac04dadb71a0fa4e": {
          "model_module": "@jupyter-widgets/controls",
          "model_name": "FloatProgressModel",
          "model_module_version": "1.5.0",
          "state": {
            "_dom_classes": [],
            "_model_module": "@jupyter-widgets/controls",
            "_model_module_version": "1.5.0",
            "_model_name": "FloatProgressModel",
            "_view_count": null,
            "_view_module": "@jupyter-widgets/controls",
            "_view_module_version": "1.5.0",
            "_view_name": "ProgressView",
            "bar_style": "success",
            "description": "",
            "description_tooltip": null,
            "layout": "IPY_MODEL_cb25b33bf4654623a5b1f06684f45dcf",
            "max": 1000,
            "min": 0,
            "orientation": "horizontal",
            "style": "IPY_MODEL_a55ea13c7438471a8970e3bfd2850f13",
            "value": 1000
          }
        },
        "025e68e1cb8a4d85bb3c30e1b775db92": {
          "model_module": "@jupyter-widgets/controls",
          "model_name": "HTMLModel",
          "model_module_version": "1.5.0",
          "state": {
            "_dom_classes": [],
            "_model_module": "@jupyter-widgets/controls",
            "_model_module_version": "1.5.0",
            "_model_name": "HTMLModel",
            "_view_count": null,
            "_view_module": "@jupyter-widgets/controls",
            "_view_module_version": "1.5.0",
            "_view_name": "HTMLView",
            "description": "",
            "description_tooltip": null,
            "layout": "IPY_MODEL_d684938f6a904ac8b8ebc374951794ff",
            "placeholder": "​",
            "style": "IPY_MODEL_8f912895dc164539a10747914ec9aa28",
            "value": " 1000/1000 [01:11&lt;00:00, 17.62it/s]"
          }
        },
        "777e02029ada4cc7877495aa54771713": {
          "model_module": "@jupyter-widgets/base",
          "model_name": "LayoutModel",
          "model_module_version": "1.2.0",
          "state": {
            "_model_module": "@jupyter-widgets/base",
            "_model_module_version": "1.2.0",
            "_model_name": "LayoutModel",
            "_view_count": null,
            "_view_module": "@jupyter-widgets/base",
            "_view_module_version": "1.2.0",
            "_view_name": "LayoutView",
            "align_content": null,
            "align_items": null,
            "align_self": null,
            "border": null,
            "bottom": null,
            "display": null,
            "flex": null,
            "flex_flow": null,
            "grid_area": null,
            "grid_auto_columns": null,
            "grid_auto_flow": null,
            "grid_auto_rows": null,
            "grid_column": null,
            "grid_gap": null,
            "grid_row": null,
            "grid_template_areas": null,
            "grid_template_columns": null,
            "grid_template_rows": null,
            "height": null,
            "justify_content": null,
            "justify_items": null,
            "left": null,
            "margin": null,
            "max_height": null,
            "max_width": null,
            "min_height": null,
            "min_width": null,
            "object_fit": null,
            "object_position": null,
            "order": null,
            "overflow": null,
            "overflow_x": null,
            "overflow_y": null,
            "padding": null,
            "right": null,
            "top": null,
            "visibility": null,
            "width": null
          }
        },
        "32bf85c744724fa78ed3e8a709b2aaa2": {
          "model_module": "@jupyter-widgets/base",
          "model_name": "LayoutModel",
          "model_module_version": "1.2.0",
          "state": {
            "_model_module": "@jupyter-widgets/base",
            "_model_module_version": "1.2.0",
            "_model_name": "LayoutModel",
            "_view_count": null,
            "_view_module": "@jupyter-widgets/base",
            "_view_module_version": "1.2.0",
            "_view_name": "LayoutView",
            "align_content": null,
            "align_items": null,
            "align_self": null,
            "border": null,
            "bottom": null,
            "display": null,
            "flex": null,
            "flex_flow": null,
            "grid_area": null,
            "grid_auto_columns": null,
            "grid_auto_flow": null,
            "grid_auto_rows": null,
            "grid_column": null,
            "grid_gap": null,
            "grid_row": null,
            "grid_template_areas": null,
            "grid_template_columns": null,
            "grid_template_rows": null,
            "height": null,
            "justify_content": null,
            "justify_items": null,
            "left": null,
            "margin": null,
            "max_height": null,
            "max_width": null,
            "min_height": null,
            "min_width": null,
            "object_fit": null,
            "object_position": null,
            "order": null,
            "overflow": null,
            "overflow_x": null,
            "overflow_y": null,
            "padding": null,
            "right": null,
            "top": null,
            "visibility": null,
            "width": null
          }
        },
        "5c585e9c72f94b239f63e6924ee2fa17": {
          "model_module": "@jupyter-widgets/controls",
          "model_name": "DescriptionStyleModel",
          "model_module_version": "1.5.0",
          "state": {
            "_model_module": "@jupyter-widgets/controls",
            "_model_module_version": "1.5.0",
            "_model_name": "DescriptionStyleModel",
            "_view_count": null,
            "_view_module": "@jupyter-widgets/base",
            "_view_module_version": "1.2.0",
            "_view_name": "StyleView",
            "description_width": ""
          }
        },
        "cb25b33bf4654623a5b1f06684f45dcf": {
          "model_module": "@jupyter-widgets/base",
          "model_name": "LayoutModel",
          "model_module_version": "1.2.0",
          "state": {
            "_model_module": "@jupyter-widgets/base",
            "_model_module_version": "1.2.0",
            "_model_name": "LayoutModel",
            "_view_count": null,
            "_view_module": "@jupyter-widgets/base",
            "_view_module_version": "1.2.0",
            "_view_name": "LayoutView",
            "align_content": null,
            "align_items": null,
            "align_self": null,
            "border": null,
            "bottom": null,
            "display": null,
            "flex": null,
            "flex_flow": null,
            "grid_area": null,
            "grid_auto_columns": null,
            "grid_auto_flow": null,
            "grid_auto_rows": null,
            "grid_column": null,
            "grid_gap": null,
            "grid_row": null,
            "grid_template_areas": null,
            "grid_template_columns": null,
            "grid_template_rows": null,
            "height": null,
            "justify_content": null,
            "justify_items": null,
            "left": null,
            "margin": null,
            "max_height": null,
            "max_width": null,
            "min_height": null,
            "min_width": null,
            "object_fit": null,
            "object_position": null,
            "order": null,
            "overflow": null,
            "overflow_x": null,
            "overflow_y": null,
            "padding": null,
            "right": null,
            "top": null,
            "visibility": null,
            "width": null
          }
        },
        "a55ea13c7438471a8970e3bfd2850f13": {
          "model_module": "@jupyter-widgets/controls",
          "model_name": "ProgressStyleModel",
          "model_module_version": "1.5.0",
          "state": {
            "_model_module": "@jupyter-widgets/controls",
            "_model_module_version": "1.5.0",
            "_model_name": "ProgressStyleModel",
            "_view_count": null,
            "_view_module": "@jupyter-widgets/base",
            "_view_module_version": "1.2.0",
            "_view_name": "StyleView",
            "bar_color": null,
            "description_width": ""
          }
        },
        "d684938f6a904ac8b8ebc374951794ff": {
          "model_module": "@jupyter-widgets/base",
          "model_name": "LayoutModel",
          "model_module_version": "1.2.0",
          "state": {
            "_model_module": "@jupyter-widgets/base",
            "_model_module_version": "1.2.0",
            "_model_name": "LayoutModel",
            "_view_count": null,
            "_view_module": "@jupyter-widgets/base",
            "_view_module_version": "1.2.0",
            "_view_name": "LayoutView",
            "align_content": null,
            "align_items": null,
            "align_self": null,
            "border": null,
            "bottom": null,
            "display": null,
            "flex": null,
            "flex_flow": null,
            "grid_area": null,
            "grid_auto_columns": null,
            "grid_auto_flow": null,
            "grid_auto_rows": null,
            "grid_column": null,
            "grid_gap": null,
            "grid_row": null,
            "grid_template_areas": null,
            "grid_template_columns": null,
            "grid_template_rows": null,
            "height": null,
            "justify_content": null,
            "justify_items": null,
            "left": null,
            "margin": null,
            "max_height": null,
            "max_width": null,
            "min_height": null,
            "min_width": null,
            "object_fit": null,
            "object_position": null,
            "order": null,
            "overflow": null,
            "overflow_x": null,
            "overflow_y": null,
            "padding": null,
            "right": null,
            "top": null,
            "visibility": null,
            "width": null
          }
        },
        "8f912895dc164539a10747914ec9aa28": {
          "model_module": "@jupyter-widgets/controls",
          "model_name": "DescriptionStyleModel",
          "model_module_version": "1.5.0",
          "state": {
            "_model_module": "@jupyter-widgets/controls",
            "_model_module_version": "1.5.0",
            "_model_name": "DescriptionStyleModel",
            "_view_count": null,
            "_view_module": "@jupyter-widgets/base",
            "_view_module_version": "1.2.0",
            "_view_name": "StyleView",
            "description_width": ""
          }
        }
      }
    }
  },
  "nbformat": 4,
  "nbformat_minor": 0
}